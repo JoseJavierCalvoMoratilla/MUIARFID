{
  "cells": [
    {
      "cell_type": "markdown",
      "metadata": {
        "id": "m3Zufh5oJb4W"
      },
      "source": [
        "Proyecto final LC\n",
        "José Javier Calvo Moratilla\n",
        "MUIARFID"
      ]
    },
    {
      "cell_type": "markdown",
      "metadata": {
        "id": "aJeoHK6GN1ck"
      },
      "source": [
        "Librerias"
      ]
    },
    {
      "cell_type": "code",
      "execution_count": null,
      "metadata": {
        "colab": {
          "base_uri": "https://localhost:8080/"
        },
        "id": "VjbwldZzJYmL",
        "outputId": "2288972e-43d3-4a6a-d5f5-7209cf32afd9"
      },
      "outputs": [
        {
          "name": "stdout",
          "output_type": "stream",
          "text": [
            "Requirement already satisfied: nltk in /usr/local/lib/python3.7/dist-packages (3.2.5)\n",
            "Requirement already satisfied: six in /usr/local/lib/python3.7/dist-packages (from nltk) (1.15.0)\n",
            "Collecting sklearn-pycrfsuite\n",
            "  Downloading sklearn-pycrfsuite-0.4.0.tar.gz (24 kB)\n",
            "Requirement already satisfied: tqdm>=2.0 in /usr/local/lib/python3.7/dist-packages (from sklearn-pycrfsuite) (4.62.3)\n",
            "Requirement already satisfied: six in /usr/local/lib/python3.7/dist-packages (from sklearn-pycrfsuite) (1.15.0)\n",
            "Requirement already satisfied: tabulate in /usr/local/lib/python3.7/dist-packages (from sklearn-pycrfsuite) (0.8.9)\n",
            "Collecting python-crfsuite-extension\n",
            "  Downloading python-crfsuite-extension-0.9.7.tar.gz (485 kB)\n",
            "\u001b[K     |████████████████████████████████| 485 kB 7.8 MB/s \n",
            "\u001b[?25hBuilding wheels for collected packages: sklearn-pycrfsuite, python-crfsuite-extension\n",
            "  Building wheel for sklearn-pycrfsuite (setup.py) ... \u001b[?25l\u001b[?25hdone\n",
            "  Created wheel for sklearn-pycrfsuite: filename=sklearn_pycrfsuite-0.4.0-py2.py3-none-any.whl size=11001 sha256=10a111bbd7b5667c6271ce0c96440c4ba9efefa0cf22afa595794ec11cd1c55e\n",
            "  Stored in directory: /root/.cache/pip/wheels/44/50/b1/295e502c6652f551dc99bfdb394a3fe2fcb47668e333391f38\n",
            "  Building wheel for python-crfsuite-extension (setup.py) ... \u001b[?25l\u001b[?25hdone\n",
            "  Created wheel for python-crfsuite-extension: filename=python_crfsuite_extension-0.9.7-cp37-cp37m-linux_x86_64.whl size=776811 sha256=82451fae2630d12f8fa86a164d2354aba6a5a6b9cf2d205618c95ffefe4641de\n",
            "  Stored in directory: /root/.cache/pip/wheels/70/d7/bf/369f4d179407dbf3840132e4135fa61f0bf711f4496d0bf750\n",
            "Successfully built sklearn-pycrfsuite python-crfsuite-extension\n",
            "Installing collected packages: python-crfsuite-extension, sklearn-pycrfsuite\n",
            "Successfully installed python-crfsuite-extension-0.9.7 sklearn-pycrfsuite-0.4.0\n",
            "[nltk_data] Downloading package cess_esp to /root/nltk_data...\n",
            "[nltk_data]   Unzipping corpora/cess_esp.zip.\n",
            "[nltk_data] Downloading package punkt to /root/nltk_data...\n",
            "[nltk_data]   Unzipping tokenizers/punkt.zip.\n"
          ]
        }
      ],
      "source": [
        "!pip install nltk\n",
        "!pip install sklearn-pycrfsuite\n",
        "import nltk\n",
        "nltk.download('cess_esp')\n",
        "nltk.download('punkt')\n",
        "from nltk.corpus import cess_esp\n",
        "from nltk.tag import hmm, tnt, brill, brill_trainer, crf, perceptron\n",
        "from nltk.tag import UnigramTagger, BigramTagger, AffixTagger\n",
        "\n",
        "from tqdm import tqdm\n",
        "import numpy as np\n",
        "from sklearn.model_selection import KFold \n",
        "import matplotlib.pyplot as plt\n",
        "\n"
      ]
    },
    {
      "cell_type": "markdown",
      "metadata": {
        "id": "R4O4OyWAN7qC"
      },
      "source": [
        "Tarea 1: Evaluación del etiquetador ‘hmm’ sobre el corpus ‘cess-esp’ utilizando el juego de\n",
        "categorías completo y reducido.\n",
        "\n",
        "Utilizando el etiquetador hmm basado en modelos de Markov, se realizará una validación cruzada\n",
        "sobre 10 particiones del corpus. Barajar el corpus antes de realizar las particiones. Presentar los\n",
        "resultados en forma de tabla y gráficamente, incluyendo los intervalos de confianza."
      ]
    },
    {
      "cell_type": "code",
      "execution_count": null,
      "metadata": {
        "colab": {
          "base_uri": "https://localhost:8080/",
          "height": 1000
        },
        "id": "dcub2SOFN8Di",
        "outputId": "ed28b82d-5d41-4a23-bf99-32bce6408dc5"
      },
      "outputs": [
        {
          "name": "stdout",
          "output_type": "stream",
          "text": [
            "\n",
            " Se inicia la ejecución de la tarea nº1...\n",
            "\n",
            " Se utiliza el corpus sin la reducción de categorias...  \n",
            "\n",
            "\n",
            " Se realiza el Ten-fold cross validation... \n",
            "\n",
            "Iteración:  1  de:  10\n",
            "Iteración:  2  de:  10\n",
            "Iteración:  3  de:  10\n",
            "Iteración:  4  de:  10\n",
            "Iteración:  5  de:  10\n",
            "Iteración:  6  de:  10\n",
            "Iteración:  7  de:  10\n",
            "Iteración:  8  de:  10\n",
            "Iteración:  9  de:  10\n",
            "Iteración:  10  de:  10\n"
          ]
        },
        {
          "data": {
            "image/png": "[encoded data removed]",
            "text/plain": [
              "<Figure size 432x288 with 1 Axes>"
            ]
          },
          "metadata": {
            "needs_background": "light"
          },
          "output_type": "display_data"
        },
        {
          "name": "stdout",
          "output_type": "stream",
          "text": [
            "\n",
            "--------------------------------------------------------\n",
            "\n",
            "Resultados en no reducción de categorias:\n",
            "[0.8990910968808098, 0.9000678744844149, 0.8989409347173192, 0.8938532786022524, 0.8947148527261333, 0.894260440238634, 0.8969287347182189, 0.9008719596145021, 0.8996155264128087, 0.8885827814569537]\n",
            "[0.024041635396261255, 0.023937985973797992, 0.024057507640297005, 0.024585770665899793, 0.024497586128069807, 0.024544160023785042, 0.024268625939796118, 0.023852132346428367, 0.023986073458056128, 0.025114383297153986]\n",
            "\n",
            "--------------------------------------------------------\n",
            "\n",
            " Se utiliza el corpus con la reducción de categorias...  \n",
            "\n",
            " Se preprocesa el corpus...\n",
            "\n"
          ]
        },
        {
          "name": "stderr",
          "output_type": "stream",
          "text": [
            "100%|██████████| 6030/6030 [00:07<00:00, 860.16it/s] \n"
          ]
        },
        {
          "name": "stdout",
          "output_type": "stream",
          "text": [
            "\n",
            "Se realiza el Ten-fold cross validation... \n",
            "\n",
            "Iteración:  1  de:  10\n",
            "Iteración:  2  de:  10\n",
            "Iteración:  3  de:  10\n",
            "Iteración:  4  de:  10\n",
            "Iteración:  5  de:  10\n",
            "Iteración:  6  de:  10\n",
            "Iteración:  7  de:  10\n",
            "Iteración:  8  de:  10\n",
            "Iteración:  9  de:  10\n",
            "Iteración:  10  de:  10\n"
          ]
        },
        {
          "data": {
            "image/png": "[encoded data removed]",
            "text/plain": [
              "<Figure size 432x288 with 1 Axes>"
            ]
          },
          "metadata": {
            "needs_background": "light"
          },
          "output_type": "display_data"
        },
        {
          "name": "stdout",
          "output_type": "stream",
          "text": [
            "\n",
            "--------------------------------------------------------\n",
            "\n",
            "Resultados en reducción de categorias:\n",
            "Resultados:\n",
            "[0.9242579324462641, 0.9263467796084913, 0.9191422594142259, 0.9254481044784011, 0.9240486341386389, 0.9246394789889906, 0.931385981257193, 0.9317510548523207, 0.9237711009661322, 0.9268490923868871]\n",
            "[0.021118476591004905, 0.020848752971632405, 0.021759533641835995, 0.02096538275167286, 0.021145240262336214, 0.02106956540510252, 0.020177562078256054, 0.020127754816626868, 0.021180656879759396, 0.020783169963695405]\n"
          ]
        }
      ],
      "source": [
        "import warnings\n",
        "warnings.filterwarnings(\"ignore\")\n",
        "\n",
        "# 1a.Download the dirty corpus \n",
        "corpus=cess_esp.tagged_sents()\n",
        "\n",
        "# Vars\n",
        "corpus_cleaned = []\n",
        "corpus_train = []\n",
        "corpus_test = []\n",
        "\n",
        "results = []\n",
        "intervalos_conf = []\n",
        "\n",
        "\n",
        "def preproces():\n",
        "    \"\"\"\n",
        "    The corpus is preprocessed to simplify the labels\n",
        "    \"\"\"\n",
        "    # 1b.Preprocess corpus\n",
        "    for sentence in tqdm(corpus):\n",
        "        list_cleaned = []\n",
        "        for word, cat in sentence:    \n",
        "\n",
        "            if not word.startswith('*0*'): \n",
        "\n",
        "                if cat.startswith('v') | cat.startswith('F'):       \n",
        "                    list_cleaned.append((word, cat[0:3]))        \n",
        "                elif len(cat) == 1:\n",
        "                    list_cleaned.append((word, cat[0:1]))            \n",
        "                else:        \n",
        "                    list_cleaned.append((word, cat[0:2]))   \n",
        "\n",
        "        corpus_cleaned.append(list_cleaned) \n",
        "   \n",
        "\n",
        "# 2a.Entrenamiento etiquetador hmm \n",
        "def train(train_data):\n",
        "    \"\"\"\n",
        "    Training of the selected model is performed   \n",
        "    \"\"\"         \n",
        "    \n",
        "    model_trained = hmm.HiddenMarkovModelTagger.train(train_data)   \n",
        "    return model_trained\n",
        "\n",
        "# 2c.Evaluar las prestaciones del etiquetador\n",
        "\n",
        "print('\\n Se inicia la ejecución de la tarea nº1...\\n')\n",
        "\n",
        "print(' Se utiliza el corpus sin la reducción de categorias...  \\n')\n",
        "print('\\n Se realiza el Ten-fold cross validation... \\n')\n",
        "iter = 1\n",
        "splits = 10\n",
        "kf = KFold(n_splits=splits, shuffle = True)\n",
        "for train_indexes, test_indexes in kf.split(corpus):\n",
        "  print('Iteración: ', iter, ' de: ', splits)\n",
        "\n",
        "  train_data = np.array(corpus)[train_indexes.astype(int)]\n",
        "  test_data = np.array(corpus)[test_indexes.astype(int)]\n",
        "\n",
        "  model = train(train_data)\n",
        "  ac = model.evaluate(test_data)  \n",
        "  ic = 1.96 * np.sqrt((ac*(1-ac))/len(test_data))\n",
        "  results.append(ac)\n",
        "  intervalos_conf.append(ic)\n",
        "  iter += 1\n",
        "\n",
        "x=[i for i in range(10)]\n",
        "y=results\n",
        "plt.axis([-1, 10, 0.70, 0.95])\n",
        "plt.ylabel('Accuracy')\n",
        "plt.xlabel('Fold')\n",
        "plt.title('Ten-fold cross validation')\n",
        "plt.plot(x,y,'ro')\n",
        "plt.errorbar(x,y,yerr=ic,linestyle='None')\n",
        "plt.show()\n",
        "\n",
        "print('\\n--------------------------------------------------------\\n')\n",
        "print('Resultados en no reducción de categorias:')\n",
        "print(results)\n",
        "print(intervalos_conf)\n",
        "\n",
        "results = []\n",
        "intervalos_conf = []\n",
        "\n",
        "print('\\n--------------------------------------------------------\\n')\n",
        "print(' Se utiliza el corpus con la reducción de categorias...  \\n')\n",
        "print(' Se preprocesa el corpus...\\n')\n",
        "preproces()\n",
        "print('\\nSe realiza el Ten-fold cross validation... \\n')\n",
        "iter = 1;\n",
        "splits = 10;\n",
        "kf = KFold(n_splits=splits, shuffle = True)\n",
        "for train_indexes, test_indexes in kf.split(corpus_cleaned):\n",
        "  print('Iteración: ', iter, ' de: ', splits)\n",
        "\n",
        "  train_data = np.array(corpus_cleaned)[train_indexes.astype(int)]\n",
        "  test_data = np.array(corpus_cleaned)[test_indexes.astype(int)]\n",
        "\n",
        "  model = train(train_data)\n",
        "  ac = model.evaluate(test_data)  \n",
        "  ic = 1.96 * np.sqrt((ac*(1-ac))/len(test_data))\n",
        "  results.append(ac)\n",
        "  intervalos_conf.append(ic)\n",
        "  iter += 1\n",
        "\n",
        "\n",
        "x=[i for i in range(10)]\n",
        "y=results\n",
        "plt.axis([-1, 10, 0.70, 1.0])\n",
        "plt.ylabel('Accuracy')\n",
        "plt.xlabel('Fold')\n",
        "plt.title('Ten-fold cross validation')\n",
        "plt.plot(x,y,'ro')\n",
        "plt.errorbar(x,y,yerr=ic,linestyle='None')\n",
        "plt.show()\n",
        "\n",
        "print('\\n--------------------------------------------------------\\n')\n",
        "print('Resultados en reducción de categorias:')\n",
        "print('Resultados:')\n",
        "print(results)\n",
        "print(intervalos_conf)\n",
        "\n"
      ]
    },
    {
      "cell_type": "markdown",
      "metadata": {
        "id": "HyAugbs_ODs6"
      },
      "source": [
        "Tarea 2: Evaluación de las prestaciones del etiquetador respecto a la cantidad de datos de\n",
        "aprendizaje.\n",
        "Se trata de estudiar cómo varían las prestaciones del etiquetador hmm cuando varía el tamaño del\n",
        "corpus de aprendizaje. Para este experimento se dividirá el corpus de entrenamiento en 10 partes\n",
        "de tamaño similar. La partición 10 se tomará como test, y las 9 particiones restantes se tomarán\n",
        "como entrenamiento. En cada ejecución, se irá incrementando sucesivamente el tamaño del corpus\n",
        "de entrenamiento, manteniendo fija la partición de test.\n",
        "Importante: Para esta tarea no es necesario realizar la validación cruzada. "
      ]
    },
    {
      "cell_type": "code",
      "execution_count": null,
      "metadata": {
        "colab": {
          "base_uri": "https://localhost:8080/"
        },
        "id": "tg434SR5OD85",
        "outputId": "49760ecc-14cf-47d8-9ed1-0c0a7e780fd3"
      },
      "outputs": [
        {
          "name": "stdout",
          "output_type": "stream",
          "text": [
            "Tarea2 \n",
            "\n",
            "--------------------------------------------------------\n",
            "\n",
            "Preproces...\n",
            "\n"
          ]
        },
        {
          "name": "stderr",
          "output_type": "stream",
          "text": [
            "100%|██████████| 6030/6030 [00:07<00:00, 851.38it/s] \n"
          ]
        },
        {
          "name": "stdout",
          "output_type": "stream",
          "text": [
            "\n",
            "Holdout...\n",
            "\n",
            "Obtain indexes...\n",
            "\n",
            "Experiment...\n",
            "\n"
          ]
        },
        {
          "name": "stderr",
          "output_type": "stream",
          "text": [
            "100%|██████████| 9/9 [01:29<00:00,  9.95s/it]"
          ]
        },
        {
          "name": "stdout",
          "output_type": "stream",
          "text": [
            "\n",
            "Results:\n",
            "\n",
            "[0.7404347178800059, 0.7955188328122674, 0.8081732916480572, 0.819562304600268, 0.8295369956825964, 0.8575256811076374, 0.8675748101831174, 0.8733809736489504, 0.8784427571832664]\n",
            "\n",
            "Interval Confidence:\n",
            "\n",
            "[0.03499162439837008, 0.03219209982326431, 0.03142709218901664, 0.030693897504747353, 0.03001444824936088, 0.02789904115871331, 0.027054292697050945, 0.026542923994298338, 0.026082220904978973]\n"
          ]
        },
        {
          "name": "stderr",
          "output_type": "stream",
          "text": [
            "\n"
          ]
        }
      ],
      "source": [
        "import warnings\n",
        "warnings.filterwarnings(\"ignore\")\n",
        "\n",
        "# 1a.Download the dirty corpus \n",
        "corpus=cess_esp.tagged_sents()\n",
        "# Vars\n",
        "corpus_cleaned = []\n",
        "corpus_train = []\n",
        "corpus_test = []\n",
        "index_part = []\n",
        "\n",
        "results = []\n",
        "intervalos_conf = []\n",
        "\n",
        "def preproces():\n",
        "    \"\"\"\n",
        "    The corpus is preprocessed to simplify the labels\n",
        "    \"\"\"\n",
        "    # 1b.Preprocess corpus\n",
        "    for sentence in tqdm(corpus):\n",
        "        list_cleaned = []\n",
        "        for word, cat in sentence:    \n",
        "\n",
        "            if not word.startswith('*0*'): \n",
        "\n",
        "                if cat.startswith('v') | cat.startswith('F'):       \n",
        "                    list_cleaned.append((word, cat[0:3]))        \n",
        "                elif len(cat) == 1:\n",
        "                    list_cleaned.append((word, cat[0:1]))            \n",
        "                else:        \n",
        "                    list_cleaned.append((word, cat[0:2]))   \n",
        "\n",
        "        corpus_cleaned.append(list_cleaned) \n",
        "\n",
        "def holdout(valor):\n",
        "    \"\"\"\n",
        "    The data are divided into training and test segments.\n",
        "    \"\"\"\n",
        "    reference = int(len(corpus_cleaned)*valor)    \n",
        "    corpus_train = corpus_cleaned[:reference]\n",
        "    corpus_test = corpus_cleaned[reference:]\n",
        "    return corpus_train, corpus_test\n",
        "\n",
        "def get_index_part(corpus_train):\n",
        "  \"\"\"\n",
        "  Return the index when each partition starts\n",
        "  \"\"\"\n",
        "  long_train = len(corpus_train)\n",
        "  res = []\n",
        "  for x in range(0,long_train, int(long_train / 9)):\n",
        "    res.append(x)\n",
        "  res.append(long_train)\n",
        "  return res[1:]\n",
        "\n",
        "def train(train_data):\n",
        "    \"\"\"\n",
        "    Training of the selected model is performed   \n",
        "    \"\"\"         \n",
        "    \n",
        "    model_trained = hmm.HiddenMarkovModelTagger.train(train_data)   \n",
        "    return model_trained\n",
        "\n",
        "print('Tarea2 \\n')\n",
        "print('--------------------------------------------------------\\n')\n",
        "print('Preproces...\\n')\n",
        "# Reduces the categories in corpus \n",
        "preproces()\n",
        "\n",
        "print('\\nHoldout...\\n')\n",
        "# Doing general holdout\n",
        "corpus_train, corpus_test = holdout(0.9)\n",
        "\n",
        "print('Obtain indexes...\\n')\n",
        "#Obtain indexes\n",
        "index_part = get_index_part(corpus_train)\n",
        "\n",
        "print('Experiment...\\n')\n",
        "# Iterate every index and train model with this subset\n",
        "for idx in tqdm(index_part):  \n",
        "  particion_train = corpus_train[0:idx]\n",
        "  model = train(particion_train)\n",
        "  ac = model.evaluate(test_data)  \n",
        "  ic = 1.96 * np.sqrt((ac*(1-ac))/len(test_data))\n",
        "  results.append(ac)\n",
        "  intervalos_conf.append(ic)\n",
        "\n",
        "print('\\nResults:\\n')\n",
        "print(results)\n",
        "print('\\nInterval Confidence:\\n')\n",
        "print(intervalos_conf)\n",
        "\n",
        "\n"
      ]
    },
    {
      "cell_type": "markdown",
      "metadata": {
        "id": "0JcD0vJmOIvS"
      },
      "source": [
        "Tarea 3: Evaluación del método de suavizado para palabras desconocidas para el etiquetador tnt.\n",
        "El etiquetador tnt por defecto no incorpora un método de suavizado para las palabras desconocidas.\n",
        "Utiliza un método basado en los sufijos de las palabras para construir un modelo para las palabras\n",
        "desconocidas (Affix Tagger). En base al sufijo de la palabra desconocida le asigna una categoría\n",
        "morfosintáctica. Este método funciona razonablemente bien para el inglés.\n",
        "En concreto, se trata de estudiar diferentes longitudes del sufijo (número de letras que se tienen en\n",
        "cuenta) y estudiar cómo varían las prestaciones del etiquetador. Una vez se haya decidido el sufijo\n",
        "que mejores prestaciones proporciona, incorporarlo como modelo de suavizado al etiquetador tnt y\n",
        "comprobar si aumenta sus prestaciones."
      ]
    },
    {
      "cell_type": "code",
      "execution_count": null,
      "metadata": {
        "colab": {
          "base_uri": "https://localhost:8080/"
        },
        "id": "uqTyoQOuOLKK",
        "outputId": "0139e463-f501-4054-9419-6e122b310ebf"
      },
      "outputs": [
        {
          "name": "stdout",
          "output_type": "stream",
          "text": [
            "Tarea 3 \n",
            "\n",
            "--------------------------------------------------------\n",
            "\n",
            "Preproces...\n",
            "\n"
          ]
        },
        {
          "name": "stderr",
          "output_type": "stream",
          "text": [
            "100%|██████████| 6030/6030 [00:06<00:00, 877.55it/s] \n"
          ]
        },
        {
          "name": "stdout",
          "output_type": "stream",
          "text": [
            "\n",
            "Holdout...\n",
            "\n",
            "Experiments TnT Without smoothed ...\n",
            "\n",
            "\n",
            "Accurancy:  0.8255173440524044 \n",
            "\n",
            "\n",
            "Confidence Interval:  0.030292606824607833 \n",
            "\n",
            "Experiments what number of sufix is the best...\n",
            "\n",
            "Sufix of :  1 \n",
            "\n",
            "Sufix of :  2 \n",
            "\n",
            "Sufix of :  3 \n",
            "\n",
            "Sufix of :  4 \n",
            "\n",
            "Sufix of :  5 \n",
            "\n",
            "Sufix of :  6 \n",
            "\n",
            "Sufix of :  7 \n",
            "\n",
            "Sufix of :  8 \n",
            "\n",
            "Sufix of :  9 \n",
            "\n",
            "\n",
            " The best sufix is:  3  with accurancy of:  0.2675301473872264\n",
            "--------------------------------------------------------\n",
            "\n",
            "\n",
            "Results: \n",
            "\n",
            "[0.21974095578383207, 0.2622450498734554, 0.2675301473872264, 0.21505136221527468, 0.15929730534464792, 0.09773708500818817, 0.05292541313086199, 0.030891767157957422, 0.01652523447967843]\n",
            "\n",
            "Confidence Interval: \n",
            "\n",
            "[0.033050065580443135, 0.03510808417778935, 0.035332848962060424, 0.03279360296203619, 0.029209414367536782, 0.023702472969941282, 0.017869879964678793, 0.013810357886326705, 0.010175431641782038]\n",
            "--------------------------------------------------------\n",
            "\n",
            "Uses :  3  to train model TnT \n",
            "\n",
            "\n",
            "Accurancy:  0.9136519279440226 \n",
            "\n",
            "\n",
            "Confident Interval:  0.022418890997800676 \n",
            "\n"
          ]
        }
      ],
      "source": [
        "import warnings\n",
        "warnings.filterwarnings(\"ignore\")\n",
        "\n",
        "# 1a.Download the dirty corpus \n",
        "corpus=cess_esp.tagged_sents()\n",
        "# Vars\n",
        "corpus_cleaned = []\n",
        "corpus_train = []\n",
        "corpus_test = []\n",
        "\n",
        "results = []\n",
        "intervalos_conf = []\n",
        "\n",
        "best_ac = 0.0\n",
        "best_sufix = 0\n",
        "\n",
        "def preproces():\n",
        "    \"\"\"\n",
        "    The corpus is preprocessed to simplify the labels\n",
        "    \"\"\"\n",
        "    # 1b.Preprocess corpus\n",
        "    for sentence in tqdm(corpus):\n",
        "        list_cleaned = []\n",
        "        for word, cat in sentence:    \n",
        "\n",
        "            if not word.startswith('*0*'): \n",
        "\n",
        "                if cat.startswith('v') | cat.startswith('F'):       \n",
        "                    list_cleaned.append((word, cat[0:3]))        \n",
        "                elif len(cat) == 1:\n",
        "                    list_cleaned.append((word, cat[0:1]))            \n",
        "                else:        \n",
        "                    list_cleaned.append((word, cat[0:2]))   \n",
        "\n",
        "        corpus_cleaned.append(list_cleaned) \n",
        "\n",
        "def holdout(valor):\n",
        "    \"\"\"\n",
        "    The data are divided into training and test segments.\n",
        "    \"\"\"\n",
        "    reference = int(len(corpus_cleaned)*valor)    \n",
        "    corpus_train = corpus_cleaned[:reference]\n",
        "    corpus_test = corpus_cleaned[reference:]\n",
        "    return corpus_train, corpus_test\n",
        "\n",
        "print('Tarea 3 \\n')\n",
        "print('--------------------------------------------------------\\n')\n",
        "print('Preproces...\\n')\n",
        "# Reduces the categories in corpus \n",
        "preproces()\n",
        "\n",
        "print('\\nHoldout...\\n')\n",
        "# Doing general holdout\n",
        "corpus_train, corpus_test = holdout(0.9)\n",
        "\n",
        "print('Experiments TnT Without smoothed ...\\n')\n",
        "\n",
        "model_trained = tnt.TnT()\n",
        "model_trained.train(corpus_train)\n",
        "ac = model_trained.evaluate(corpus_test)\n",
        "ic = 1.96 * np.sqrt((ac*(1-ac))/len(corpus_test))\n",
        "\n",
        "print('\\nAccurancy: ', ac, '\\n')\n",
        "print('\\nConfidence Interval: ', ic, '\\n')\n",
        "\n",
        "print('Experiments what number of sufix is the best...\\n')\n",
        "for longitud in range(1,10):\n",
        "  # initializing tagger\n",
        "  print('Sufix of : ', longitud, '\\n')\n",
        "  unk = AffixTagger(corpus_train, affix_length=-longitud)  \n",
        "  ac = unk.evaluate(corpus_test) \n",
        "  ic = 1.96 * np.sqrt((ac*(1-ac))/len(corpus_test))\n",
        "  results.append(ac)\n",
        "  intervalos_conf.append(ic)\n",
        "\n",
        "  if ac > best_ac:\n",
        "    best_ac = ac\n",
        "    best_sufix = longitud\n",
        "\n",
        "print('\\n The best sufix is: ', best_sufix, ' with accurancy of: ', best_ac)\n",
        "print('--------------------------------------------------------\\n')\n",
        "print('\\nResults: \\n')\n",
        "print(results)\n",
        "print('\\nConfidence Interval: \\n')\n",
        "print(intervalos_conf)\n",
        "\n",
        "print('--------------------------------------------------------\\n')\n",
        "print('Uses : ', best_sufix, ' to train model TnT \\n')\n",
        " \n",
        "unk = AffixTagger(corpus_train, affix_length=-best_sufix)\n",
        "model_trained = tnt.TnT(N=100, unk=unk, Trained=True)\n",
        "model_trained.train(corpus_train)\n",
        "ac = model_trained.evaluate(corpus_test)\n",
        "ic = 1.96 * np.sqrt((ac*(1-ac))/len(corpus_test))\n",
        "\n",
        "print('\\nAccurancy: ', ac, '\\n')\n",
        "print('\\nConfident Interval: ', ic, '\\n')\n",
        "\n"
      ]
    },
    {
      "cell_type": "markdown",
      "metadata": {
        "id": "gcAww7l7OPgx"
      },
      "source": [
        "Tarea 4: Evaluación del resto de etiquetadores.\n",
        "Se deberán utilizar otros paradigmas de etiquetado. Como mínimo el etiquetador de Brill y algún otro\n",
        "como, CRF, perceptron. Se deberá realizar una comparativa de prestaciones respecto a los\n",
        "etiquetadores tnt y hmm, utilizando el juego de categorías reducido.\n",
        "Cuando se utilice el etiquetador de Brill, probar con diferentes etiquetados iniciales, por ejemplo\n",
        "probar con Unigram Tagger y con hmm tagger.\n",
        "La comparación puede ser sólo de una partición, si el coste temporal de la validación cruzada\n",
        "requiere mucho tiempo.\n"
      ]
    },
    {
      "cell_type": "code",
      "execution_count": null,
      "metadata": {
        "colab": {
          "base_uri": "https://localhost:8080/",
          "height": 1000
        },
        "id": "psL7Nx6_OQN5",
        "outputId": "acda80e3-5980-46e6-dc23-7c818d823d5c"
      },
      "outputs": [
        {
          "name": "stdout",
          "output_type": "stream",
          "text": [
            "Tarea 4 \n",
            "\n",
            "--------------------------------------------------------\n",
            "\n",
            "Preproces...\n",
            "\n"
          ]
        },
        {
          "name": "stderr",
          "output_type": "stream",
          "text": [
            "100%|██████████| 6030/6030 [00:06<00:00, 864.02it/s] \n"
          ]
        },
        {
          "name": "stdout",
          "output_type": "stream",
          "text": [
            "\n",
            " HMM \n",
            "\n",
            "\n",
            " Se realiza el Ten-fold cross validation... \n",
            "\n",
            "Iteración:  1  de:  10\n",
            "Iteración:  2  de:  10\n",
            "Iteración:  3  de:  10\n",
            "Iteración:  4  de:  10\n",
            "Iteración:  5  de:  10\n",
            "Iteración:  6  de:  10\n",
            "Iteración:  7  de:  10\n",
            "Iteración:  8  de:  10\n",
            "Iteración:  9  de:  10\n",
            "Iteración:  10  de:  10\n"
          ]
        },
        {
          "data": {
            "image/png": "[encoded data removed]",
            "text/plain": [
              "<Figure size 432x288 with 1 Axes>"
            ]
          },
          "metadata": {
            "needs_background": "light"
          },
          "output_type": "display_data"
        },
        {
          "name": "stdout",
          "output_type": "stream",
          "text": [
            "Resultados:  [0.9254547423126894, 0.9259317585301837, 0.9235678953247167, 0.9285303798129669, 0.9234222339582783, 0.9265648365733817, 0.926458157227388, 0.9245617696160268, 0.9322945243059366, 0.9236491373075731]\n",
            "Confidence Intervals:  [0.02096452457380333, 0.0209027257376881, 0.021206536215626817, 0.020561567091501455, 0.021225059934893917, 0.02082031785548852, 0.020834235746410683, 0.02107953989050412, 0.02005330128983524, 0.02119619489046944]\n",
            "\n",
            " TnT \n",
            "\n",
            "\n",
            " Se realiza el Ten-fold cross validation... \n",
            "\n",
            "Iteración:  1  de:  10\n",
            "Iteración:  2  de:  10\n",
            "Iteración:  3  de:  10\n",
            "Iteración:  4  de:  10\n",
            "Iteración:  5  de:  10\n",
            "Iteración:  6  de:  10\n",
            "Iteración:  7  de:  10\n",
            "Iteración:  8  de:  10\n",
            "Iteración:  9  de:  10\n",
            "Iteración:  10  de:  10\n"
          ]
        },
        {
          "data": {
            "image/png": "[encoded data removed]",
            "text/plain": [
              "<Figure size 432x288 with 1 Axes>"
            ]
          },
          "metadata": {
            "needs_background": "light"
          },
          "output_type": "display_data"
        },
        {
          "name": "stdout",
          "output_type": "stream",
          "text": [
            "Resultados:  [0.9045253267091479, 0.897561231998318, 0.8986482876529358, 0.9019158259451747, 0.9017606394469648, 0.9042240201744247, 0.9022650351470971, 0.9009718225745155, 0.9008233127505145, 0.9026452282157676]\n",
            "Confidence Intervals:  [0.02345588758443715, 0.02420257817855477, 0.024088393447779802, 0.02373995485474207, 0.023756683745285327, 0.02348895722058742, 0.023702243734331503, 0.023841436153863423, 0.023857340147506248, 0.023661080991098305]\n",
            "\n",
            " crf \n",
            "\n",
            "\n",
            " Se realiza el Ten-fold cross validation... \n",
            "\n",
            "Iteración:  1  de:  10\n",
            "Iteración:  2  de:  10\n",
            "Iteración:  3  de:  10\n",
            "Iteración:  4  de:  10\n",
            "Iteración:  5  de:  10\n",
            "Iteración:  6  de:  10\n",
            "Iteración:  7  de:  10\n",
            "Iteración:  8  de:  10\n",
            "Iteración:  9  de:  10\n",
            "Iteración:  10  de:  10\n"
          ]
        },
        {
          "data": {
            "image/png": "[encoded data removed]",
            "text/plain": [
              "<Figure size 432x288 with 1 Axes>"
            ]
          },
          "metadata": {
            "needs_background": "light"
          },
          "output_type": "display_data"
        },
        {
          "name": "stdout",
          "output_type": "stream",
          "text": [
            "Resultados:  [0.8988546539764478, 0.9025018790937399, 0.897602242059373, 0.901316833254006, 0.8975237501946737, 0.9037421928305254, 0.9025549924238466, 0.9031032298923369, 0.9087601006046985, 0.898869655436029]\n",
            "Confidence Intervals:  [0.02406662013849714, 0.023676614086050343, 0.024198285893521555, 0.023804424981685588, 0.024206500128515725, 0.0235416921656646, 0.023670860639237366, 0.023611346981632367, 0.022983408684452554, 0.024065036156042503]\n",
            "\n",
            " perceptron \n",
            "\n",
            "\n",
            " Se realiza el Ten-fold cross validation... \n",
            "\n",
            "Iteración:  1  de:  10\n",
            "Iteración:  2  de:  10\n",
            "Iteración:  3  de:  10\n",
            "Iteración:  4  de:  10\n",
            "Iteración:  5  de:  10\n",
            "Iteración:  6  de:  10\n",
            "Iteración:  7  de:  10\n",
            "Iteración:  8  de:  10\n",
            "Iteración:  9  de:  10\n",
            "Iteración:  10  de:  10\n"
          ]
        },
        {
          "data": {
            "image/png": "[encoded data removed]",
            "text/plain": [
              "<Figure size 432x288 with 1 Axes>"
            ]
          },
          "metadata": {
            "needs_background": "light"
          },
          "output_type": "display_data"
        },
        {
          "name": "stdout",
          "output_type": "stream",
          "text": [
            "Resultados:  [0.9680407124681933, 0.9656980554948656, 0.9650562469431009, 0.9648840707505576, 0.967711616077846, 0.9673821548821548, 0.9672328194408153, 0.9657345206478154, 0.96785413153457, 0.9713691618682022]\n",
            "Confidence Intervals:  [0.014039213258648759, 0.014527051084671843, 0.014657452729247502, 0.014692207939719143, 0.014108912713276162, 0.014178297482349674, 0.01420962001862604, 0.014519601566193576, 0.014078777683835858, 0.01331087490545885]\n",
            "\n",
            " brill Unigram \n",
            "\n",
            "\n",
            " Se realiza el Ten-fold cross validation... \n",
            "\n",
            "Iteración:  1  de:  10\n",
            "Iteración:  2  de:  10\n",
            "Iteración:  3  de:  10\n",
            "Iteración:  4  de:  10\n",
            "Iteración:  5  de:  10\n",
            "Iteración:  6  de:  10\n",
            "Iteración:  7  de:  10\n",
            "Iteración:  8  de:  10\n",
            "Iteración:  9  de:  10\n",
            "Iteración:  10  de:  10\n"
          ]
        },
        {
          "data": {
            "image/png": "[encoded data removed]",
            "text/plain": [
              "<Figure size 432x288 with 1 Axes>"
            ]
          },
          "metadata": {
            "needs_background": "light"
          },
          "output_type": "display_data"
        },
        {
          "name": "stdout",
          "output_type": "stream",
          "text": [
            "Resultados:  [0.9013498372725818, 0.8977327804405192, 0.9013448203404076, 0.9018995714058945, 0.9009146341463414, 0.8931608697866272, 0.8972115333930737, 0.8993501429685469, 0.8960459183673469, 0.8997929838303587]\n",
            "Confidence Intervals:  [0.02380087977521198, 0.024184615177726215, 0.02380141873393993, 0.023741707927320624, 0.0238475624454884, 0.024656273064004117, 0.02423913027204553, 0.02401421532628575, 0.024360338640365825, 0.023967226587173738]\n",
            "\n",
            " brill HMM_Tagger \n",
            "\n",
            "\n",
            " Se realiza el Ten-fold cross validation... \n",
            "\n",
            "Iteración:  1  de:  10\n",
            "Iteración:  2  de:  10\n",
            "Iteración:  3  de:  10\n",
            "Iteración:  4  de:  10\n",
            "Iteración:  5  de:  10\n",
            "Iteración:  6  de:  10\n",
            "Iteración:  7  de:  10\n",
            "Iteración:  8  de:  10\n",
            "Iteración:  9  de:  10\n",
            "Iteración:  10  de:  10\n"
          ]
        },
        {
          "data": {
            "image/png": "[encoded data removed]",
            "text/plain": [
              "<Figure size 432x288 with 1 Axes>"
            ]
          },
          "metadata": {
            "needs_background": "light"
          },
          "output_type": "display_data"
        },
        {
          "name": "stdout",
          "output_type": "stream",
          "text": [
            "Resultados:  [0.9263770903456751, 0.9318181818181818, 0.9290551435020961, 0.9240260789913249, 0.9229094562911689, 0.9274481772694781, 0.9323354208034215, 0.9246016743181205, 0.929518855656697, 0.9301509674675739]\n",
            "Confidence Intervals:  [0.020844803574497667, 0.0201185786204444, 0.020491729700048714, 0.021148121654719902, 0.02129009099154162, 0.02070457905007325, 0.020047683620415042, 0.021074418689419422, 0.02042974710658811, 0.02034484258519494]\n"
          ]
        }
      ],
      "source": [
        "import warnings\n",
        "warnings.filterwarnings(\"ignore\")\n",
        "\n",
        "# 1a.Download the dirty corpus \n",
        "corpus=cess_esp.tagged_sents()\n",
        "# Vars\n",
        "corpus_cleaned = []\n",
        "\n",
        "results = []\n",
        "intervalos_conf = []\n",
        "\n",
        "def preproces():\n",
        "    \"\"\"\n",
        "    The corpus is preprocessed to simplify the labels\n",
        "    \"\"\"\n",
        "    # 1b.Preprocess corpus\n",
        "    for sentence in tqdm(corpus):\n",
        "        list_cleaned = []\n",
        "        for word, cat in sentence:    \n",
        "\n",
        "            if not word.startswith('*0*'): \n",
        "\n",
        "                if cat.startswith('v') | cat.startswith('F'):       \n",
        "                    list_cleaned.append((word, cat[0:3]))        \n",
        "                elif len(cat) == 1:\n",
        "                    list_cleaned.append((word, cat[0:1]))            \n",
        "                else:        \n",
        "                    list_cleaned.append((word, cat[0:2]))   \n",
        "\n",
        "        corpus_cleaned.append(list_cleaned) \n",
        "\n",
        "def train_brill_tagger(initial_tagger, train_sents, **kwargs):\n",
        "    templates = [\n",
        "            brill.Template(brill.Pos([-1])),\n",
        "            brill.Template(brill.Pos([1])),\n",
        "            brill.Template(brill.Pos([-2])),\n",
        "            brill.Template(brill.Pos([2])),\n",
        "            brill.Template(brill.Pos([-2, -1])),\n",
        "            brill.Template(brill.Pos([1, 2])),\n",
        "            brill.Template(brill.Pos([-3, -2, -1])),\n",
        "            brill.Template(brill.Pos([1, 2, 3])),\n",
        "            brill.Template(brill.Pos([-1]), brill.Pos([1])),\n",
        "            brill.Template(brill.Word([-1])),\n",
        "            brill.Template(brill.Word([1])),\n",
        "            brill.Template(brill.Word([-2])),\n",
        "            brill.Template(brill.Word([2])),\n",
        "            brill.Template(brill.Word([-2, -1])),\n",
        "            brill.Template(brill.Word([1, 2])),\n",
        "            brill.Template(brill.Word([-3, -2, -1])),\n",
        "            brill.Template(brill.Word([1, 2, 3])),\n",
        "            brill.Template(brill.Word([-1]), brill.Word([1])),\n",
        "            ]\n",
        "      \n",
        "    # Using BrillTaggerTrainer to train \n",
        "    trainer = brill_trainer.BrillTaggerTrainer(\n",
        "            initial_tagger, templates, deterministic = True)\n",
        "      \n",
        "    return trainer.train(train_sents, **kwargs)\n",
        "\n",
        "def kfoldcross(model_selec, pre_tag = 'hmm_tagger'):\n",
        "  print('\\n Se realiza el Ten-fold cross validation... \\n')\n",
        "  iter = 1;\n",
        "  splits = 10;\n",
        "  results = []\n",
        "  intervalos_conf = []\n",
        "\n",
        "  kf = KFold(n_splits=splits, shuffle = True)\n",
        "  for train_indexes, test_indexes in kf.split(corpus_cleaned):\n",
        "    print('Iteración: ', iter, ' de: ', splits)\n",
        "\n",
        "    train_data = np.array(corpus_cleaned)[train_indexes.astype(int)]\n",
        "    test_data = np.array(corpus_cleaned)[test_indexes.astype(int)]\n",
        "\n",
        "    model = train(train_data, model_selec, pre_tag)\n",
        "    ac = model.evaluate(test_data)  \n",
        "    ic = 1.96 * np.sqrt((ac*(1-ac))/len(test_data))\n",
        "    results.append(ac)\n",
        "    intervalos_conf.append(ic)\n",
        "    iter += 1\n",
        "\n",
        "  x=[i for i in range(splits)]\n",
        "  y=results\n",
        "  plt.axis([-1, 10, 0.75, 1.0])\n",
        "  plt.ylabel('Accuracy')\n",
        "  plt.xlabel('Fold')\n",
        "  plt.title('Ten-fold cross validation')\n",
        "  plt.plot(x,y,'ro')\n",
        "  plt.errorbar(x,y,yerr=ic,linestyle='None')\n",
        "  plt.show()\n",
        "  print('Resultados: ',results)\n",
        "  print('Confidence Intervals: ', intervalos_conf)\n",
        "\n",
        "def train(tr_data, model = 'hmm', pre_etiquetado ='unigram'):\n",
        "    \"\"\"\n",
        "    Training of the selected model is performed\n",
        "    \"\"\"     \n",
        "    if model =='hmm':\n",
        "        model_trained = hmm.HiddenMarkovModelTagger.train(tr_data)\n",
        "\n",
        "    elif model == 'tnt':\n",
        "        model_trained = tnt.TnT()\n",
        "        model_trained.train(tr_data)\n",
        "    elif model == 'brill':\n",
        "        if pre_etiquetado == 'unigram':\n",
        "            tagger = UnigramTagger(tr_data.tolist())       \n",
        "        elif pre_etiquetado == 'hmm_tagger':\n",
        "            tagger = hmm.HiddenMarkovModelTagger.train(tr_data)          \n",
        "        model_trained = train_brill_tagger(tagger, tr_data)\n",
        "        #model_trained.train(tr_data)\n",
        "    elif model == 'crf':\n",
        "        model_trained = crf.CRFTagger()\n",
        "        model_trained.train(tr_data, 'model.crf.tagger')\n",
        "    elif model == 'perceptron':\n",
        "        model_trained = perceptron.PerceptronTagger(load=False)\n",
        "        model_trained.train(tr_data)\n",
        "    else:\n",
        "        raise ValueError(\"El modelo seleccionado no existe\")\n",
        "    return model_trained\n",
        "\n",
        "\n",
        "print('Tarea 4 \\n')\n",
        "print('--------------------------------------------------------\\n')\n",
        "print('Preproces...\\n')\n",
        "# Reduces the categories in corpus \n",
        "preproces()\n",
        "\n",
        "print('\\n HMM \\n')\n",
        "kfoldcross('hmm')\n",
        "print('\\n TnT \\n')\n",
        "kfoldcross('tnt')\n",
        "print('\\n crf \\n')\n",
        "kfoldcross('tnt')\n",
        "print('\\n perceptron \\n')\n",
        "kfoldcross('perceptron')\n",
        "print('\\n brill Unigram \\n')\n",
        "kfoldcross('brill', 'unigram')\n",
        "print('\\n brill HMM_Tagger \\n')\n",
        "kfoldcross('brill', 'hmm_tagger')\n",
        "\n",
        "\n"
      ]
    },
    {
      "cell_type": "markdown",
      "metadata": {
        "id": "aAoq445NOSRJ"
      },
      "source": [
        "Tarea 5: Evaluación del paquete Freeling\n",
        "Realizar un estudio de la herramienta Freeling. Considerar diferentes aspectos: facilidad/problemas\n",
        "de instalación, facilidad de uso, documentación, funcionalidad, etc. Esta herramienta de libre\n",
        "distribución se puede obtener en la siguiente dirección http://nlp.lsi.upc.edu/freeling/\n",
        "Usar Freeling para realizar el etiquetado morfosintáctico del texto del fichero Alicia.txt. Se debe\n",
        "entregar un fichero tipo texto con el formato: palabra/etiqueta\n"
      ]
    },
    {
      "cell_type": "markdown",
      "metadata": {
        "id": "F67bL7qXJwi2"
      },
      "source": [
        "Ploteo Tarea1\n"
      ]
    },
    {
      "cell_type": "code",
      "execution_count": null,
      "metadata": {
        "colab": {
          "base_uri": "https://localhost:8080/"
        },
        "id": "GiUwi7PQJzoO",
        "outputId": "13efee5f-f95b-4c44-ee84-c76bf54150cd"
      },
      "outputs": [
        {
          "name": "stdout",
          "output_type": "stream",
          "text": [
            "Resultados sin reduc cat:  [[0.8991, 0.9001, 0.8989, 0.8939, 0.8947, 0.8943, 0.8969, 0.9009, 0.8996, 0.8886]]\n",
            "Intervalos sin reduc cat:  [[0.024, 0.0239, 0.0241, 0.0246, 0.0245, 0.0245, 0.0243, 0.0239, 0.024, 0.0251]]\n",
            "Resultados con reduc cat:  [[0.9243, 0.9263, 0.9191, 0.9254, 0.924, 0.9246, 0.9314, 0.9318, 0.9238, 0.9268]]\n",
            "Intervalos con reduc cat:  [[0.0211, 0.0208, 0.0218, 0.021, 0.0211, 0.0211, 0.0202, 0.0201, 0.0212, 0.0208]]\n"
          ]
        }
      ],
      "source": [
        "results_round = []\n",
        "intervals_round = []\n",
        "\n",
        "results_no_reduc = [0.8990910968808098, 0.9000678744844149, 0.8989409347173192, 0.8938532786022524, 0.8947148527261333, 0.894260440238634, 0.8969287347182189, 0.9008719596145021, 0.8996155264128087, 0.8885827814569537]\n",
        "ic_no_reduc = [0.024041635396261255, 0.023937985973797992, 0.024057507640297005, 0.024585770665899793, 0.024497586128069807, 0.024544160023785042, 0.024268625939796118, 0.023852132346428367, 0.023986073458056128, 0.025114383297153986]\n",
        "\n",
        "results_round.append([round(i,4) for i in results_no_reduc])\n",
        "intervals_round.append([round(i,4) for i in ic_no_reduc])\n",
        "\n",
        "print('Resultados sin reduc cat: ', results_round)\n",
        "print('Intervalos sin reduc cat: ', intervals_round)\n",
        "\n",
        "results_round = []\n",
        "intervals_round = []\n",
        "\n",
        "results_si_reduc = [0.9242579324462641, 0.9263467796084913, 0.9191422594142259, 0.9254481044784011, 0.9240486341386389, 0.9246394789889906, 0.931385981257193, 0.9317510548523207, 0.9237711009661322, 0.9268490923868871]\n",
        "ic_si_reduc = [0.021118476591004905, 0.020848752971632405, 0.021759533641835995, 0.02096538275167286, 0.021145240262336214, 0.02106956540510252, 0.020177562078256054, 0.020127754816626868, 0.021180656879759396, 0.020783169963695405]\n",
        "\n",
        "results_round.append([round(i,4) for i in results_si_reduc])\n",
        "intervals_round.append([round(i,4) for i in ic_si_reduc])\n",
        "\n",
        "print('Resultados con reduc cat: ', results_round )\n",
        "print('Intervalos con reduc cat: ', intervals_round)\n"
      ]
    },
    {
      "cell_type": "markdown",
      "metadata": {
        "id": "Sp-FYDhPDQqf"
      },
      "source": [
        "Ploteo Tarea2\n"
      ]
    },
    {
      "cell_type": "code",
      "execution_count": null,
      "metadata": {
        "colab": {
          "base_uri": "https://localhost:8080/",
          "height": 347
        },
        "id": "vCrZYSqCDSMQ",
        "outputId": "5d842230-7d4b-472b-ab43-6d7359b0962a"
      },
      "outputs": [
        {
          "name": "stdout",
          "output_type": "stream",
          "text": [
            "\n"
          ]
        },
        {
          "data": {
            "image/png": "[encoded data removed]",
            "text/plain": [
              "<Figure size 432x288 with 1 Axes>"
            ]
          },
          "metadata": {
            "needs_background": "light"
          },
          "output_type": "display_data"
        },
        {
          "name": "stdout",
          "output_type": "stream",
          "text": [
            "[[0.7404, 0.7955, 0.8082, 0.8196, 0.8295, 0.8575, 0.8676, 0.8734, 0.8784]]\n",
            "[[0.035, 0.0322, 0.0314, 0.0307, 0.03, 0.0279, 0.0271, 0.0265, 0.0261]]\n"
          ]
        }
      ],
      "source": [
        "results_round = []\n",
        "intervals_round = []\n",
        "\n",
        "splits = 9\n",
        "\n",
        "results = [0.7404347178800059, 0.7955188328122674, 0.8081732916480572, 0.819562304600268, 0.8295369956825964, 0.8575256811076374, 0.8675748101831174, 0.8733809736489504, 0.8784427571832664]\n",
        "results_round.append([round(i,4) for i in results])\n",
        "\n",
        "print()\n",
        "\n",
        "ic = [0.03499162439837008, 0.03219209982326431, 0.03142709218901664, 0.030693897504747353, 0.03001444824936088, 0.02789904115871331, 0.027054292697050945, 0.026542923994298338, 0.026082220904978973]\n",
        "intervals_round.append([round(i,4) for i in ic])\n",
        "\n",
        "x=[i for i in range(splits)]\n",
        "y=results\n",
        "plt.axis([-1, 10, 0.6, 1.0])\n",
        "plt.ylabel('Accuracy')\n",
        "plt.xlabel('Splits')\n",
        "plt.title('Evaluación')\n",
        "plt.plot(x,y,'ro')\n",
        "plt.errorbar(x,y,yerr=ic,linestyle='None')\n",
        "plt.show()\n",
        "\n",
        "print(results_round)\n",
        "print(intervals_round)\n"
      ]
    },
    {
      "cell_type": "markdown",
      "metadata": {
        "id": "pPdyC1XcNgXi"
      },
      "source": [
        "Ploteo Tarea3\n",
        "\n",
        "The best sufix is:  3  with accurancy of:  0.2675301473872264\n",
        "--------------------------------------------------------\n",
        "Results: \n",
        "\n",
        "[0.21974095578383207, 0.2622450498734554, 0.2675301473872264, 0.21505136221527468, 0.15929730534464792, 0.09773708500818817, 0.05292541313086199, 0.030891767157957422, 0.01652523447967843]\n",
        "\n",
        "Confidence Interval: \n",
        "\n",
        "[0.033050065580443135, 0.03510808417778935, 0.035332848962060424, 0.03279360296203619, 0.029209414367536782, 0.023702472969941282, 0.017869879964678793, 0.013810357886326705, 0.010175431641782038]\n",
        "--------------------------------------------------------\n",
        "\n",
        "Se utiliza:  3  para entrenar el modelo TnT \n",
        "\n",
        "\n",
        "La Accurancy es de:  0.9136519279440226 \n",
        "\n",
        "\n",
        "El intervalo de confianza es de:  0.022418890997800676 "
      ]
    },
    {
      "cell_type": "code",
      "execution_count": null,
      "metadata": {
        "colab": {
          "base_uri": "https://localhost:8080/",
          "height": 382
        },
        "id": "UILZ-eQiNihz",
        "outputId": "e0cafeeb-ed84-469e-f6d3-534620a17b53"
      },
      "outputs": [
        {
          "data": {
            "image/png": "[encoded data removed]",
            "text/plain": [
              "<Figure size 432x288 with 1 Axes>"
            ]
          },
          "metadata": {
            "needs_background": "light"
          },
          "output_type": "display_data"
        },
        {
          "name": "stdout",
          "output_type": "stream",
          "text": [
            "0.2675\n",
            "[[0.2197, 0.2622, 0.2675, 0.2151, 0.1593, 0.0977, 0.0529, 0.0309, 0.0165]]\n",
            "[[0.0331, 0.0351, 0.0353, 0.0328, 0.0292, 0.0237, 0.0179, 0.0138, 0.0102]]\n",
            "0.9137\n",
            "0.0224\n"
          ]
        }
      ],
      "source": [
        "splits = 10\n",
        "\n",
        "best_sufi = round(0.2675301473872264, 4)\n",
        "\n",
        "acu_tnt = round(0.9136519279440226, 4)\n",
        "ic_tnt = round(0.022418890997800676, 4)\n",
        "\n",
        "\n",
        "\n",
        "results = [0.21974095578383207, 0.2622450498734554, 0.2675301473872264, 0.21505136221527468, 0.15929730534464792, 0.09773708500818817, 0.05292541313086199, 0.030891767157957422, 0.01652523447967843]\n",
        "ic = [0.033050065580443135, 0.03510808417778935, 0.035332848962060424, 0.03279360296203619, 0.029209414367536782, 0.023702472969941282, 0.017869879964678793, 0.013810357886326705, 0.010175431641782038]\n",
        "\n",
        "results_round = []\n",
        "intervals_round = []\n",
        "\n",
        "results_round.append([round(i,4) for i in results])\n",
        "intervals_round.append([round(i,4) for i in ic])\n",
        "\n",
        "\n",
        "x=[i for i in range(1,splits)]\n",
        "y=results\n",
        "plt.axis([0, 10, 0.00, 0.4])\n",
        "plt.ylabel('Accuracy')\n",
        "plt.xlabel('Sufijos')\n",
        "plt.title('Evaluación')\n",
        "plt.plot(x,y,'ro')\n",
        "plt.errorbar(x,y,yerr=ic,linestyle='None')\n",
        "plt.show()\n",
        "\n",
        "print(best_sufi)\n",
        "print(results_round)\n",
        "print(intervals_round)\n",
        "\n",
        "print(acu_tnt)\n",
        "print(ic_tnt)\n"
      ]
    },
    {
      "cell_type": "markdown",
      "metadata": {
        "id": "obHRHcaZMGcd"
      },
      "source": [
        "Ploteo Tarea 4\n",
        "\n",
        "---\n",
        "\n"
      ]
    },
    {
      "cell_type": "code",
      "execution_count": null,
      "metadata": {
        "colab": {
          "base_uri": "https://localhost:8080/"
        },
        "id": "LWOpJGjfMGOL",
        "outputId": "444e9599-549a-49e6-e7e7-a1715d721701"
      },
      "outputs": [
        {
          "name": "stdout",
          "output_type": "stream",
          "text": [
            "[[0.9264, 0.9318, 0.9291, 0.924, 0.9229, 0.9274, 0.9323, 0.9246, 0.9295, 0.9302]]\n",
            "[[0.0208, 0.0201, 0.0205, 0.0211, 0.0213, 0.0207, 0.02, 0.0211, 0.0204, 0.0203]]\n"
          ]
        }
      ],
      "source": [
        "results_round = []\n",
        "intervals_round = []\n",
        "\n",
        "results = [0.9263770903456751, 0.9318181818181818, 0.9290551435020961, 0.9240260789913249, 0.9229094562911689, 0.9274481772694781, 0.9323354208034215, 0.9246016743181205, 0.929518855656697, 0.9301509674675739]\n",
        "ic = [0.020844803574497667, 0.0201185786204444, 0.020491729700048714, 0.021148121654719902, 0.02129009099154162, 0.02070457905007325, 0.020047683620415042, 0.021074418689419422, 0.02042974710658811, 0.02034484258519494]\n",
        "results_round.append([round(i,4) for i in results])\n",
        "intervals_round.append([round(i,4) for i in ic])\n",
        "\n",
        "print(results_round)\n",
        "print(intervals_round)\n",
        "\n",
        "\n"
      ]
    },
    {
      "cell_type": "code",
      "execution_count": null,
      "metadata": {
        "colab": {
          "base_uri": "https://localhost:8080/"
        },
        "id": "NEQYok_YSj_n",
        "outputId": "5eceb372-d972-4590-afd3-d0f3df451761"
      },
      "outputs": [
        {
          "name": "stdout",
          "output_type": "stream",
          "text": [
            "hmm\n",
            "0.9323\n",
            "[0.9122-0.9524]\n",
            "tnt\n",
            "0.9045\n",
            "[0.881-0.928]\n",
            "crf\n",
            "0.9088\n",
            "[0.8858-0.9318]\n",
            "perceptron\n",
            "0.9714\n",
            "[0.9581-0.9847]\n",
            "Brill Unitag\n",
            "0.9019\n",
            "[0.8782-0.9256]\n",
            "Brill hmm tagger\n",
            "0.9323\n",
            "[0.9123-0.9523]\n"
          ]
        }
      ],
      "source": [
        "print('hmm')\n",
        "print(max([0.9255, 0.9259, 0.9236, 0.9285, 0.9234, 0.9266, 0.9265, 0.9246, 0.9323, 0.9236]))\n",
        "print('['+str(round(0.9323-0.0201, 4))+'-'+str(round(0.9323+0.0201, 4))+']')\n",
        "print('tnt')\n",
        "print(max( [0.9045, 0.8976, 0.8986, 0.9019, 0.9018, 0.9042, 0.9023, 0.901, 0.9008, 0.9026]))\n",
        "print('['+str(round(0.9045-0.0235, 4))+'-'+str(round(0.9045+0.0235, 4))+']')\n",
        "print('crf')\n",
        "print(max( [0.8989, 0.9025, 0.8976, 0.9013, 0.8975, 0.9037, 0.9026, 0.9031, 0.9088, 0.8989]))\n",
        "print('['+str(round(0.9088-0.023, 4))+'-'+str(round(0.9088+0.023, 4))+']')\n",
        "print('perceptron')\n",
        "print(max([0.968, 0.9657, 0.9651, 0.9649, 0.9677, 0.9674, 0.9672, 0.9657, 0.9679, 0.9714] ))\n",
        "print('['+str(round(0.9714-0.0133, 4))+'-'+str(round(0.9714+0.0133, 4))+']')\n",
        "print('Brill Unitag')\n",
        "print(max( [0.9013, 0.8977, 0.9013, 0.9019, 0.9009, 0.8932, 0.8972, 0.8994, 0.896, 0.8998]))\n",
        "print('['+str(round(0.9019-0.0237, 4))+'-'+str(round(0.9019+0.0237, 4))+']')\n",
        "print('Brill hmm tagger')\n",
        "print(max( [0.9264, 0.9318, 0.9291, 0.924, 0.9229, 0.9274, 0.9323, 0.9246, 0.9295, 0.9302]))\n",
        "print('['+str(round(0.9323-0.02, 4))+'-'+str(round(0.9323+0.02, 4))+']')"
      ]
    }
  ],
  "metadata": {
    "colab": {
      "collapsed_sections": [],
      "name": "Proyecto Final LC.ipynb",
      "provenance": []
    },
    "kernelspec": {
      "display_name": "Python 3",
      "name": "python3"
    },
    "language_info": {
      "name": "python"
    }
  },
  "nbformat": 4,
  "nbformat_minor": 0
}
