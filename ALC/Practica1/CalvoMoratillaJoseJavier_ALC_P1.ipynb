{
  "nbformat": 4,
  "nbformat_minor": 0,
  "metadata": {
    "colab": {
      "name": "ALC_P1.ipynb",
      "provenance": [],
      "collapsed_sections": []
    },
    "kernelspec": {
      "name": "python3",
      "display_name": "Python 3"
    },
    "language_info": {
      "name": "python"
    }
  },
  "cells": [
    {
      "cell_type": "code",
      "execution_count": null,
      "metadata": {
        "id": "1sDeBBr4H0-B"
      },
      "outputs": [],
      "source": [
        "# Carpeta de Google Drive\n",
        "input_txt = \"drive/MyDrive/MUIARFID/ALC/data/entrada_tokenizador.txt\"\n",
        "output_txt = \"drive/MyDrive/MUIARFID/ALC/data/salida_tokenizador.txt\"\n",
        "res_txt = \"drive/MyDrive/MUIARFID/ALC/data/res_tokenizador.txt\""
      ]
    },
    {
      "cell_type": "code",
      "source": [
        "# Librerias\n",
        "import re\n",
        "!pip install emojis\n",
        "import emojis"
      ],
      "metadata": {
        "colab": {
          "base_uri": "https://localhost:8080/"
        },
        "id": "9NEfHk2EH9v2",
        "outputId": "9b2a4103-3667-47ff-e7a9-c8859179c08a"
      },
      "execution_count": null,
      "outputs": [
        {
          "output_type": "stream",
          "name": "stdout",
          "text": [
            "Collecting emojis\n",
            "  Downloading emojis-0.6.0-py3-none-any.whl (27 kB)\n",
            "Installing collected packages: emojis\n",
            "Successfully installed emojis-0.6.0\n"
          ]
        }
      ]
    },
    {
      "cell_type": "markdown",
      "source": [
        "1) Los símbolos que hay que separar de cada palabra son: ( ) . , ‘ “ ? ¿ ! ¡ … ; :"
      ],
      "metadata": {
        "id": "bEKil3W8U6Ih"
      }
    },
    {
      "cell_type": "code",
      "source": [
        "puntuacion = '(\\.{3}|[().,\\'\"?¿!¡…;:%])'"
      ],
      "metadata": {
        "id": "CpRSx5q8JLOJ"
      },
      "execution_count": null,
      "outputs": []
    },
    {
      "cell_type": "markdown",
      "source": [
        "2) No se deben separar los números decimales, ejemplo: 44,45 45.60"
      ],
      "metadata": {
        "id": "RPw34EqiU77o"
      }
    },
    {
      "cell_type": "code",
      "source": [
        "decimales = '([0-9]+[/,.][0-9]+)'"
      ],
      "metadata": {
        "id": "B3RZuTbCU-YY"
      },
      "execution_count": null,
      "outputs": []
    },
    {
      "cell_type": "markdown",
      "source": [
        "3) No se deben separar fechas 12/12/90, 12-03-98, ni horas, 9:30 h."
      ],
      "metadata": {
        "id": "D-HdST9SU-xb"
      }
    },
    {
      "cell_type": "code",
      "source": [
        "fechas = '([0-9]+[-/][0-9]+[-/]*[0-9]*)'\n",
        "horas = '([0-9]+:[0-9]+)'"
      ],
      "metadata": {
        "id": "pxckuObRVB-Y"
      },
      "execution_count": null,
      "outputs": []
    },
    {
      "cell_type": "markdown",
      "source": [
        "4) Las fechas en formato 12 de febrero de 2018 hay que mantenerlas como un token"
      ],
      "metadata": {
        "id": "CJLDusbWVCRB"
      }
    },
    {
      "cell_type": "code",
      "source": [
        "fecha_avanzada = '(\\d{2}\\s\\w+\\s\\w+\\s\\w+\\s\\d{4})'"
      ],
      "metadata": {
        "id": "diWNOSO6VEYI"
      },
      "execution_count": null,
      "outputs": []
    },
    {
      "cell_type": "markdown",
      "source": [
        "5) No se deben separar direcciones web http://www.colorin.com ni correos electrónicos xx@cdit.com"
      ],
      "metadata": {
        "id": "oZM69XyAVGAs"
      }
    },
    {
      "cell_type": "code",
      "source": [
        "url = '(https?:\\/\\/(?:www\\.|(?!www))[a-zA-Z\\.-]+\\.[a-zA-Z]+[a-zA-z\\/~]+)'\n",
        "email = '([a-zA-Z0-9+.-]+@[a-zA-Z0-9.-]+\\.[a-zA-Z0-9_-]+)'"
      ],
      "metadata": {
        "id": "OQZ7sIEyVHqO"
      },
      "execution_count": null,
      "outputs": []
    },
    {
      "cell_type": "markdown",
      "source": [
        "6) Hay que mantener menciones a usuarios (@user) y hashtags (#hashtag) como se\n",
        "utilizan en Twitter."
      ],
      "metadata": {
        "id": "rb_38KQVVIk0"
      }
    },
    {
      "cell_type": "code",
      "source": [
        "mencion = '(@\\w+)'\n",
        "hashtag = '(#[a-zA-Z0-9_-]+)'"
      ],
      "metadata": {
        "id": "7pxXA3IUVKPK"
      },
      "execution_count": null,
      "outputs": []
    },
    {
      "cell_type": "markdown",
      "source": [
        "7) Hay que mantener acrónimos, por ejemplo: EE.UU., S.L., CC.OO., S.A., D., U.R.S.S, …"
      ],
      "metadata": {
        "id": "MBwT8829VVxu"
      }
    },
    {
      "cell_type": "code",
      "source": [
        "acronimos = '([A-Z].\\.[A-Z]+\\.|(?:[a-zA-Z]\\.){2,}|[A-Z]\\.)'"
      ],
      "metadata": {
        "id": "ncons6QXVYnb"
      },
      "execution_count": null,
      "outputs": []
    },
    {
      "cell_type": "markdown",
      "source": [
        "8) Respetar los emoticonos: ���� etc."
      ],
      "metadata": {
        "id": "l35td6uqVZBf"
      }
    },
    {
      "cell_type": "code",
      "source": [
        "emoticonos = '[^\\w\\s,]' #U+1F614\n",
        "emoticonos2 = '(\\u00a9|\\u00ae|[\\u2000-\\u3300]|\\ud83c[\\ud000-\\udfff]|\\ud83d[\\ud000-\\udfff]|\\ud83e[\\ud000-\\udfff])'"
      ],
      "metadata": {
        "id": "98cUXaGAVcvP"
      },
      "execution_count": null,
      "outputs": []
    },
    {
      "cell_type": "code",
      "source": [
        "palabras = '(\\w+)'\n",
        "palabras_compuestas = '(^[a-zA-ZÀ-ÿ\\u00f1\\u00d1]+\\-[a-zA-ZÀ-ÿ\\u00f1\\u00d1]+)'\n"
      ],
      "metadata": {
        "id": "0Pq_TiLWRDTx"
      },
      "execution_count": null,
      "outputs": []
    },
    {
      "cell_type": "code",
      "source": [
        "lista_regex = [puntuacion ,\n",
        "              decimales ,\n",
        "              fechas ,\n",
        "              horas ,\n",
        "              fecha_avanzada ,\n",
        "              url ,\n",
        "              email ,\n",
        "              mencion ,\n",
        "              hashtag ,\n",
        "              acronimos , \n",
        "              emoticonos, \n",
        "               emoticonos2,\n",
        "               palabras_compuestas,\n",
        "               palabras\n",
        "               ]"
      ],
      "metadata": {
        "id": "xpd2FCInkmKP"
      },
      "execution_count": null,
      "outputs": []
    },
    {
      "cell_type": "code",
      "source": [
        "expresiones_reg = '|'.join(lista_regex)\n",
        "\n",
        "tokenizer = re.compile(expresiones_reg)\n"
      ],
      "metadata": {
        "id": "HFkNYNq0f7PX"
      },
      "execution_count": null,
      "outputs": []
    },
    {
      "cell_type": "markdown",
      "source": [
        "Tokenizado"
      ],
      "metadata": {
        "id": "KNY-sVyGk1tA"
      }
    },
    {
      "cell_type": "code",
      "source": [
        "#Lectura archivo\n",
        "with open(input_txt, 'r') as f:\n",
        "  input_sin_tok= f.readlines()\n",
        "\n",
        "num_lineas = len(input_sin_tok) - 1\n",
        "\n",
        "with open(res_txt, 'w') as f:\n",
        "  for i, linea in enumerate(input_sin_tok):\n",
        "    f.write(linea)\n",
        "    for token in tokenizer.finditer(linea):\n",
        "      f.write('\\n' + str(token.group()))\n",
        "    if num_lineas != i:\n",
        "      f.write('\\n')\n",
        "  f.write('\\n\\n')"
      ],
      "metadata": {
        "id": "Ccm8SM0dPs4d"
      },
      "execution_count": null,
      "outputs": []
    },
    {
      "cell_type": "code",
      "source": [
        "import collections \n",
        "with open(output_txt, 'r') as f:\n",
        "  texto_salida_referencia = f.read().split('\\n')\n",
        "\n",
        "with open(res_txt, 'r') as f:\n",
        "  texto_salida_practica = f.read().split('\\n')\n",
        "print(texto_salida_referencia)\n",
        "print(texto_salida_practica)\n",
        "\n",
        "if(collections.Counter(texto_salida_referencia)==collections.Counter(texto_salida_practica)):\n",
        "    print(\"Equal\")\n",
        "else:\n",
        "    print(\"Not Equal\")"
      ],
      "metadata": {
        "colab": {
          "base_uri": "https://localhost:8080/"
        },
        "id": "0_7a4TvzTPlT",
        "outputId": "11258193-d776-4032-accb-9c7bb1d3ae20"
      },
      "execution_count": null,
      "outputs": [
        {
          "output_type": "stream",
          "name": "stdout",
          "text": [
            "['Él, Antonio, no vendrá mañana: lo hará pasado mañana.  ¿¿¿¿Cuándo???? No te lo he dicho... ¡?Vale! no te he oido.', '', 'Él', ',', 'Antonio', ',', 'no', 'vendrá', 'mañana', ':', 'lo', 'hará', 'pasado', 'mañana', '.', '¿', '¿', '¿', '¿', 'Cuándo', '?', '?', '?', '?', 'No', 'te', 'lo', 'he', 'dicho', '...', '¡', '?', 'Vale', '!', 'no', 'te', 'he', 'oido', '.', 'De acuerdo; No iré. Pesa 44.44 kg y mide 32,32 m. El 12-12-2020, y el 13/12: habrá examen, el 14-12 ya veremos.', '', 'De', 'acuerdo', ';', 'No', 'iré', '.', 'Pesa', '44.44', 'kg', 'y', 'mide', '32,32', 'm', '.', 'El', '12-12-2020', ',', 'y', 'el', '13/12', ':', 'habrá', 'examen', ',', 'el', '14-12', 'ya', 'veremos', '.', 'El pseudo-código vale 30,6 sobre 100. El 15.5% no es suficiente. El \"bote\" está lleno, o \\'vacio\\' no semi-vacio.', '', 'El', 'pseudo-código', 'vale', '30,6', 'sobre', '100', '.', 'El', '15.5', '%', 'no', 'es', 'suficiente', '.', 'El', '\"', 'bote', '\"', 'está', 'lleno', ',', 'o', \"'\", 'vacio', \"'\", 'no', 'semi-vacio', '.', '¡Ay! el correo es fpla@dsic.upv.es y la web: http://users.dsic.upv.es/~fpla/ se me olvidaba, ha cambiado. Ahora es http://personales.upv.es/~fpla/ ', '', '¡', 'Ay', '!', 'el', 'correo', 'es', 'fpla@dsic.upv.es', 'y', 'la', 'web', ':', 'http://users.dsic.upv.es/~fpla/', 'se', 'me', 'olvidaba', ',', 'ha', 'cambiado', '.', 'Ahora', 'es', 'http://personales.upv.es/~fpla/', 'Mañana nos vemos a las 9:30 horas. 3/4 partes de la población come carne.', '', 'Mañana', 'nos', 'vemos', 'a', 'las', '9:30', 'horas', '.', '3/4', 'partes', 'de', 'la', 'población', 'come', 'carne', '.', 'el usuario @antonio_123 escribió un tweet con el hashtag #alc-2019 el viernes, https://haha.ls-ps.com', '', 'el', 'usuario', '@antonio_123', 'escribió', 'un', 'tweet', 'con', 'el', 'hashtag', '#alc-2019', 'el', 'viernes', ',', 'https://haha.ls-ps.com', 'El 14 de marzo de 2021 empiezan las clases de LNRI de prácticas y alguna cosa más.', '', 'El', '14 de marzo de 2021', 'empiezan', 'las', 'clases', 'de', 'LNRI', 'de', 'prácticas', 'y', 'alguna', 'cosa', 'más', '.', 'Todo lo que sigue son ejemplos de acrónimos que no se deberían separar: EE.UU., S.L., CC.OO., S.A., D., U.R.S.S., entre otros.', '', 'Todo', 'lo', 'que', 'sigue', 'son', 'ejemplos', 'de', 'acrónimos', 'que', 'no', 'se', 'deberían', 'separar', ':', 'EE.UU.', ',', 'S.L.', ',', 'CC.OO.', ',', 'S.A.', ',', 'D.', ',', 'U.R.S.S.', ',', 'entre', 'otros', '.', 'Podéis probar con otros ejemplos, e incluso, plantear algún tipo de tokens que os interese: disfrutaaaddd!!!!! 🙂 ', '', 'Podéis', 'probar', 'con', 'otros', 'ejemplos', ',', 'e', 'incluso', ',', 'plantear', 'algún', 'tipo', 'de', 'tokens', 'que', 'os', 'interese', ':', 'disfrutaaaddd', '!', '!', '!', '!', '!', '🙂', \"'🤔 🙈 es así,bla, bla, bla  🎓 es, se . 😌 de...; 💕👭👙😊'\", '', \"'\", '🤔', '🙈', 'es', 'así', ',', 'bla', ',', 'bla', ',', 'bla', '🎓', 'es', ',', 'se', '.', '😌', 'de', '...', ';', '💕', '👭', '👙', '😊', \"'\", '', '']\n",
            "['Él, Antonio, no vendrá mañana: lo hará pasado mañana.  ¿¿¿¿Cuándo???? No te lo he dicho... ¡?Vale! no te he oido.', '', 'Él', ',', 'Antonio', ',', 'no', 'vendrá', 'mañana', ':', 'lo', 'hará', 'pasado', 'mañana', '.', '¿', '¿', '¿', '¿', 'Cuándo', '?', '?', '?', '?', 'No', 'te', 'lo', 'he', 'dicho', '...', '¡', '?', 'Vale', '!', 'no', 'te', 'he', 'oido', '.', 'De acuerdo; No iré. Pesa 44.44 kg y mide 32,32 m. El 12-12-2020, y el 13/12: habrá examen, el 14-12 ya veremos.', '', 'De', 'acuerdo', ';', 'No', 'iré', '.', 'Pesa', '44.44', 'kg', 'y', 'mide', '32,32', 'm', '.', 'El', '12-12-2020', ',', 'y', 'el', '13/12', ':', 'habrá', 'examen', ',', 'el', '14-12', 'ya', 'veremos', '.', 'El pseudo-código vale 30,6 sobre 100. El 15.5% no es suficiente. El \"bote\" está lleno, o \\'vacio\\' no semi-vacio.', '', 'El', 'pseudo-código', 'vale', '30,6', 'sobre', '100', '.', 'El', '15.5', '%', 'no', 'es', 'suficiente', '.', 'El', '\"', 'bote', '\"', 'está', 'lleno', ',', 'o', \"'\", 'vacio', \"'\", 'no', 'semi-vacio', '.', '¡Ay! el correo es fpla@dsic.upv.es y la web: http://users.dsic.upv.es/~fpla/ se me olvidaba, ha cambiado. Ahora es http://personales.upv.es/~fpla/ ', '', '¡', 'Ay', '!', 'el', 'correo', 'es', 'fpla@dsic.upv.es', 'y', 'la', 'web', ':', 'http://users.dsic.upv.es/~fpla/', 'se', 'me', 'olvidaba', ',', 'ha', 'cambiado', '.', 'Ahora', 'es', 'http://personales.upv.es/~fpla/', 'Mañana nos vemos a las 9:30 horas. 3/4 partes de la población come carne.', '', 'Mañana', 'nos', 'vemos', 'a', 'las', '9:30', 'horas', '.', '3/4', 'partes', 'de', 'la', 'población', 'come', 'carne', '.', 'el usuario @antonio_123 escribió un tweet con el hashtag #alc-2019 el viernes, https://haha.ls-ps.com', '', 'el', 'usuario', '@antonio_123', 'escribió', 'un', 'tweet', 'con', 'el', 'hashtag', '#alc-2019', 'el', 'viernes', ',', 'https://haha.ls-ps.com', 'El 14 de marzo de 2021 empiezan las clases de LNRI de prácticas y alguna cosa más.', '', 'El', '14 de marzo de 2021', 'empiezan', 'las', 'clases', 'de', 'LNRI', 'de', 'prácticas', 'y', 'alguna', 'cosa', 'más', '.', 'Todo lo que sigue son ejemplos de acrónimos que no se deberían separar: EE.UU., S.L., CC.OO., S.A., D., U.R.S.S., entre otros.', '', 'Todo', 'lo', 'que', 'sigue', 'son', 'ejemplos', 'de', 'acrónimos', 'que', 'no', 'se', 'deberían', 'separar', ':', 'EE.UU.', ',', 'S.L.', ',', 'CC.OO.', ',', 'S.A.', ',', 'D.', ',', 'U.R.S.S.', ',', 'entre', 'otros', '.', 'Podéis probar con otros ejemplos, e incluso, plantear algún tipo de tokens que os interese: disfrutaaaddd!!!!! 🙂 ', '', 'Podéis', 'probar', 'con', 'otros', 'ejemplos', ',', 'e', 'incluso', ',', 'plantear', 'algún', 'tipo', 'de', 'tokens', 'que', 'os', 'interese', ':', 'disfrutaaaddd', '!', '!', '!', '!', '!', '🙂', \"'🤔 🙈 es así,bla, bla, bla  🎓 es, se . 😌 de...; 💕👭👙😊'\", '', \"'\", '🤔', '🙈', 'es', 'así', ',', 'bla', ',', 'bla', ',', 'bla', '🎓', 'es', ',', 'se', '.', '😌', 'de', '...', ';', '💕', '👭', '👙', '😊', \"'\", '', '']\n",
            "Equal\n"
          ]
        }
      ]
    }
  ]
}