{
  "cells": [
    {
      "cell_type": "code",
      "execution_count": null,
      "metadata": {
        "id": "1sDeBBr4H0-B"
      },
      "outputs": [],
      "source": [
        "# Carpeta de Google Drive\n",
        "data_folder = \"drive/MyDrive/MUIARFID/ALC/data/\" #TASS2017_T1_test.xml TASS2017_T1_training.xml TASS2017_T1_development.xml\n",
        "lib_folder = \"drive/MyDrive/MUIARFID/ALC/librerias/\"\n",
        "res_folder = \"drive/MyDrive/MUIARFID/ALC/resultados/\""
      ]
    },
    {
      "cell_type": "code",
      "execution_count": null,
      "metadata": {
        "colab": {
          "base_uri": "https://localhost:8080/"
        },
        "id": "9NEfHk2EH9v2",
        "outputId": "528023bf-5f9a-45b5-989c-39f4f232c292"
      },
      "outputs": [
        {
          "output_type": "stream",
          "name": "stdout",
          "text": [
            "[nltk_data] Downloading package punkt to /root/nltk_data...\n",
            "[nltk_data]   Unzipping tokenizers/punkt.zip.\n",
            "[nltk_data] Downloading package wordnet to /root/nltk_data...\n",
            "[nltk_data]   Unzipping corpora/wordnet.zip.\n",
            "[nltk_data] Downloading package stopwords to /root/nltk_data...\n",
            "[nltk_data]   Unzipping corpora/stopwords.zip.\n",
            "Requirement already satisfied: tqdm in /usr/local/lib/python3.7/dist-packages (4.63.0)\n"
          ]
        }
      ],
      "source": [
        "# Librerias\n",
        "import re\n",
        "from nltk.tokenize import word_tokenize\n",
        "import nltk\n",
        "nltk.download('punkt')\n",
        "# word_tokenize\n",
        "\n",
        "import sklearn.feature_extraction.text as skl\n",
        "# skl.CountVectorizer\n",
        "# skl.HashingVectorizer\n",
        "# skl.TfidfTransformer\n",
        "# skl.TfidfVectorizer\n",
        "\n",
        "from sklearn import svm\n",
        "from sklearn.metrics import classification_report\n",
        "from sklearn.metrics import accuracy_score\n",
        "from sklearn.naive_bayes import GaussianNB\n",
        "from sklearn.ensemble import GradientBoostingClassifier\n",
        "from sklearn.linear_model import SGDClassifier\n",
        "from sklearn import neighbors as neighbors_lib\n",
        "\n",
        "# svm.LinearSVC\n",
        "# svm.SVC\n",
        "\n",
        "# External Resources\n",
        "# Polarity Lexicons\n",
        "# ElhPolar_esV1.lex\n",
        "\n",
        "import sklearn.metrics \n",
        "# - classification_report, accuracy_score, precision_recall_fscore_support, etc\n",
        "\n",
        "import xml.etree.ElementTree as ET\n",
        "from nltk.tokenize import TweetTokenizer\n",
        "from nltk.tokenize import word_tokenize \n",
        "\n",
        "import scipy\n",
        "import spacy\n",
        "\n",
        "import nltk\n",
        "from nltk.stem.porter import *\n",
        "stemmer = PorterStemmer()\n",
        "\n",
        "from nltk.stem import WordNetLemmatizer\n",
        "nltk.download('wordnet')\n",
        "lemmatizer = WordNetLemmatizer()\n",
        "\n",
        "from nltk.corpus import stopwords\n",
        "nltk.download('stopwords')\n",
        "stop_words = stopwords.words('spanish')\n",
        "\n",
        "import string\n",
        "import numpy as np\n",
        "\n",
        "import matplotlib.pyplot as plt\n",
        "\n",
        "!pip install tqdm\n",
        "from tqdm import tqdm\n",
        "import time"
      ]
    },
    {
      "cell_type": "markdown",
      "metadata": {
        "id": "5JRtOWcgV4Su"
      },
      "source": [
        "1. Preproceso de datos\n",
        "\n",
        "a. Train, Dev, Test en formato xml.\n",
        "\n",
        "b. Hacer un parser (sugerencia utilizar minidom de Python):\n",
        "https://docs.python.org/2/library/xml.dom.minidom.html\n",
        "\n",
        "c. Utilizar un tokenizador"
      ]
    },
    {
      "cell_type": "code",
      "execution_count": null,
      "metadata": {
        "id": "er74OrAPV7N6"
      },
      "outputs": [],
      "source": [
        "# Leemos los datos\n",
        "\n",
        "atributos = ['content']\n",
        "\n",
        "Train = ET.parse(data_folder + 'TASS2017_T1_training.xml')\n",
        "Development = ET.parse(data_folder + 'TASS2017_T1_development.xml')\n",
        "Test = ET.parse(data_folder + 'TASS2017_T1_test.xml') # DOM Document\n",
        "\n",
        "train_data = []\n",
        "train_labels = []\n",
        "dev_data = []\n",
        "dev_labels = []\n",
        "test_data = []\n",
        "test_labels = []\n",
        "test_ids = []\n",
        "\n",
        "root_train = Train.getroot()\n",
        "root_dev = Development.getroot()\n",
        "root_test = Test.getroot()\n",
        "\n",
        "# Tokenizer\n",
        "#tokenizador = TweetTokenizer(strip_handles=False, reduce_len=True, preserve_case=False)\n",
        "def mi_tokenizador(s):\n",
        "  xx=[]\n",
        "  x=s.split()\n",
        "  for t in x:\n",
        "    t = re.sub('@.*', \"arroba\", t)\n",
        "    t = re.sub('#(.*)', \"hashtag\",t)\n",
        "    t = re.sub('http.*', \"http\", t)\n",
        "    t = re.sub('[0-9].*', \"num\", t)    \n",
        "    t = re.sub('(\\.{3}|[().,\\'\"?¿!¡…;:%-])+', \"\", t)\n",
        "    t  = re.sub(r'\\d+(.*?)(?:\\u263a|\\U0001f645)', \"\", t)\n",
        "    xx.append(t)\n",
        "  return (xx)\n",
        "\n",
        "# read lexicon\n",
        "def read_user_lexicon(filename):      \n",
        "                \n",
        "        dic = {}       \n",
        "\n",
        "        with open(filename, 'r', encoding='utf-8') as file:\n",
        "            entries = [line.split() for line in file if line.split()]            \n",
        "\n",
        "            for tokens in entries:\n",
        "                # word lowercase\n",
        "                tokens[0] = tokens[0].lower()\n",
        "                 \n",
        "\n",
        "        for ent in entries:  \n",
        "                   \n",
        "            key = ent[0]\n",
        "            if dic.get(key) == None:\n",
        "              dic[key] =  ent[1]         \n",
        "        \n",
        "        return dic\n",
        "\n",
        "lexicon = read_user_lexicon(lib_folder + 'ElhPolar_esV1.lex')\n",
        "\n",
        "#Train\n",
        "for tweet in root_train.findall('tweet'):  \n",
        "  train_data.append(tweet.find('content').text)\n",
        "  train_labels.append(tweet[5][0][0].text)\n",
        "\n",
        "#Dev\n",
        "for tweet in root_dev.findall('tweet'):  \n",
        "  dev_data.append(tweet.find('content').text)    \n",
        "  dev_labels.append(tweet[5][0][0].text) \n",
        "\n",
        "#Test\n",
        "for tweet in root_test.findall('tweet'):   \n",
        "  test_data.append(tweet.find('content').text)  \n",
        "  test_ids.append(tweet.find('tweetid').text) \n",
        "\n"
      ]
    },
    {
      "cell_type": "markdown",
      "metadata": {
        "id": "Ovw9Sq6WV8eh"
      },
      "source": [
        "2. Vectorizar los datos (train,dev,test)\n",
        "a. Obtener una matriz de características (utilizando un vectorizer) a partir de los tweets (Hacer\n",
        "selección de características)\n",
        "\n",
        "b. Incluir recursos externos. Añadir a la matriz la información de los diccionarios de polaridad a la\n",
        "matriz de características (Usando scpy, numpy,… de Python)"
      ]
    },
    {
      "cell_type": "code",
      "execution_count": null,
      "metadata": {
        "id": "n0Ugbe8bWBN1",
        "colab": {
          "base_uri": "https://localhost:8080/"
        },
        "outputId": "81f0bb1f-81fd-4d83-8f13-d5f7c839a2dd"
      },
      "outputs": [
        {
          "output_type": "stream",
          "name": "stderr",
          "text": [
            "/usr/local/lib/python3.7/dist-packages/sklearn/feature_extraction/text.py:517: UserWarning: The parameter 'token_pattern' will not be used since 'tokenizer' is not None'\n",
            "  \"The parameter 'token_pattern' will not be used\"\n"
          ]
        }
      ],
      "source": [
        "skl_vectorizer = 'hashing' # count hashing tfid\n",
        "# skl.CountVectorizer\n",
        "# skl.HashingVectorizer\n",
        "# skl.TfidfVectorizer\n",
        "\n",
        "# count hashing tfid\n",
        "if skl_vectorizer == 'count':\n",
        "  vectorizer = skl.CountVectorizer(tokenizer = mi_tokenizador, stop_words = stop_words)\n",
        "elif skl_vectorizer == 'hashing': \n",
        "  vectorizer = skl.HashingVectorizer(tokenizer = mi_tokenizador, stop_words = stop_words)\n",
        "elif skl_vectorizer == 'tfid':\n",
        "  vectorizer = skl.TfidfVectorizer(tokenizer = mi_tokenizador, stop_words = stop_words)\n",
        "else: \n",
        "  raise ValueError(\"El tipo de vectorizador no existe o no se ha configurado\")\n",
        "\n",
        "\n",
        "train_vectors = vectorizer.fit_transform(train_data)\n",
        "dev_vectors = vectorizer.transform(dev_data)\n",
        "test_vectors = vectorizer.transform(test_data)\n",
        "\n",
        "\n",
        "def obtenerPolaridad(palabra):\n",
        "  res = None\n",
        "  if lexicon.get(palabra) != None:\n",
        "    res = lexicon.get(palabra)\n",
        "  return res\n",
        "\n",
        "# Trainning\n",
        "longitud_train = len(train_data)\n",
        "train_palabras_con_polaridad = np.zeros(shape=(longitud_train, 2))\n",
        "\n",
        "# Se llena el array de train_palabras_con_polaridad\n",
        "for idx, frase in enumerate(train_data):\n",
        "  frase_tok = mi_tokenizador(frase)\n",
        "  for token in frase_tok:\n",
        "\n",
        "    polaridad = obtenerPolaridad(token)\n",
        "\n",
        "    if polaridad != None:\n",
        "      if polaridad == 'positive':\n",
        "        train_palabras_con_polaridad[idx][0] += 1\n",
        "      elif polaridad == 'negative':\n",
        "        train_palabras_con_polaridad[idx][1] += 1\n",
        "\n",
        "# Dev\n",
        "longitud_dev = len(dev_data)\n",
        "dev_palabras_con_polaridad = np.zeros(shape=(longitud_dev, 2))\n",
        "\n",
        "# Se llena el array de train_palabras_con_polaridad\n",
        "for idx, frase in enumerate(dev_data):\n",
        "  frase_tok = mi_tokenizador(frase)\n",
        "  for token in frase_tok:\n",
        "\n",
        "    polaridad = obtenerPolaridad(token)\n",
        "\n",
        "    if polaridad != None:\n",
        "      if polaridad == 'positive':\n",
        "        dev_palabras_con_polaridad[idx][0] += 1\n",
        "      elif polaridad == 'negative':\n",
        "        dev_palabras_con_polaridad[idx][1] += 1\n",
        "\n",
        "# Test\n",
        "longitud_test = len(test_data)\n",
        "test_palabras_con_polaridad = np.zeros(shape=(longitud_test, 2))\n",
        "\n",
        "# Se llena el array de train_palabras_con_polaridad\n",
        "for idx, frase in enumerate(test_data):\n",
        "  frase_tok = mi_tokenizador(frase)\n",
        "  for token in frase_tok:\n",
        "\n",
        "    polaridad = obtenerPolaridad(token)\n",
        "\n",
        "    if polaridad != None:\n",
        "      if polaridad == 'positive':\n",
        "        test_palabras_con_polaridad[idx][0] += 1\n",
        "      elif polaridad == 'negative':\n",
        "        test_palabras_con_polaridad[idx][1] += 1\n",
        "\n",
        "#Se juntan las dos matrices\n",
        "train_matrix = scipy.sparse.hstack((train_vectors, train_palabras_con_polaridad))\n",
        "dev_matrix = scipy.sparse.hstack((dev_vectors, dev_palabras_con_polaridad))\n",
        "test_matrix = scipy.sparse.hstack((test_vectors, test_palabras_con_polaridad))\n"
      ]
    },
    {
      "cell_type": "markdown",
      "metadata": {
        "id": "haE5CVKuFRF0"
      },
      "source": [
        ""
      ]
    },
    {
      "cell_type": "markdown",
      "metadata": {
        "id": "9UV9VAgAWBcc"
      },
      "source": [
        "3. Probar con diferentes clasificadores. Entrenar con el conjunto de train y ajustar parámetros con el de\n",
        "development."
      ]
    },
    {
      "cell_type": "code",
      "source": [
        "def argsort(seq):    \n",
        "    return sorted(range(len(seq)), key=seq.__getitem__)"
      ],
      "metadata": {
        "id": "ApGnfUqmz-vx"
      },
      "execution_count": null,
      "outputs": []
    },
    {
      "cell_type": "code",
      "execution_count": null,
      "metadata": {
        "colab": {
          "base_uri": "https://localhost:8080/",
          "height": 480
        },
        "id": "F7aSfXt4v7kE",
        "outputId": "f0fb521b-8868-4e2a-fe45-85f4b52c1a7f"
      },
      "outputs": [
        {
          "output_type": "stream",
          "name": "stdout",
          "text": [
            "# SVC\n"
          ]
        },
        {
          "output_type": "stream",
          "name": "stderr",
          "text": [
            "100%|██████████| 4/4 [00:24<00:00,  6.15s/it]\n"
          ]
        },
        {
          "output_type": "display_data",
          "data": {
            "text/plain": [
              "<Figure size 432x288 with 1 Axes>"
            ],
            "image/png": "[encoded data removed]"
          },
          "metadata": {
            "needs_background": "light"
          }
        },
        {
          "output_type": "stream",
          "name": "stdout",
          "text": [
            "\n",
            "############################\n",
            "Mejor resultado\n",
            "############################\n",
            "linear + C:  2.5  res =  0.4281\n",
            "poly + C:  6.0  res =  0.3263\n",
            "rbf + C:  6.0  res =  0.4081\n",
            "sigmoid + C:  5.0  res =  0.2853\n"
          ]
        }
      ],
      "source": [
        "import warnings\n",
        "warnings.filterwarnings('ignore')\n",
        "\n",
        "# Posibles parametros\n",
        "# C, The strength of the regularization is inversely proportional to C.\n",
        "# kernel{‘linear’, ‘poly’, ‘rbf’, ‘sigmoid’} or callable, default=’rbf’\n",
        "\n",
        "#C = [0.1, 0.15, 0.2, 0.25, 0.3, 0.35, 0.4, 0.45, 0.5, 0.55, 0.6, 0.65, 0.7, 0.75, 0.8, 0.85, 0.9, 0.95, 1, 2]\n",
        "C = [0.1, 0.25, 0.50, 0.75, 1.0, 1.50, 2.0, 2.5, 3.0, 4.0, 5.0, 6.0, 7.0, 8.0, 9.0, 10.0]\n",
        "kernels = ['rbf', 'linear', 'poly', 'sigmoid']\n",
        "print('# SVC')\n",
        "\n",
        "res = {}\n",
        "linear = [] \n",
        "poly = []\n",
        "rbf = []\n",
        "sigmoid = []\n",
        "\n",
        "for kernel in tqdm(kernels):\n",
        "  for value in C:    \n",
        "    classifier_liblinear = svm.SVC(C=value ,kernel=kernel)\n",
        "    classifier_liblinear.fit(train_matrix, train_labels)\n",
        "    prediction_liblinear = classifier_liblinear.predict(dev_matrix)     \n",
        "    res[kernel + '_' + str(value)] = classification_report(dev_labels, prediction_liblinear, output_dict = True)['macro avg']['f1-score']\n",
        "\n",
        "linear = [ v for k,v in res.items() if 'linear' in k]\n",
        "poly = [ v for k,v in res.items() if 'poly' in k]\n",
        "rbf = [ v for k,v in res.items() if 'rbf' in k]\n",
        "sigmoid = [ v for k,v in res.items() if 'sigmoid' in k]\n",
        "\n",
        "max_linear = argsort(linear)[-1]\n",
        "max_poly = argsort(poly)[-1]\n",
        "max_rbf = argsort(rbf)[-1]\n",
        "max_sigmoid = argsort(sigmoid)[-1]\n",
        "\n",
        "\n",
        "plt.plot(C, linear, color='red', label='Linear')\n",
        "plt.plot(C, poly, color='blue', label='Poly')\n",
        "plt.plot(C, rbf, color='green', label='Rbf')\n",
        "plt.plot(C, sigmoid, color='violet', label='sigmoid')\n",
        "plt.xlabel('C Values')\n",
        "plt.ylabel('Macro F1')\n",
        "plt.title('SVC Optimitzation')\n",
        "plt.legend()\n",
        "plt.show()\n",
        "\n",
        "\n",
        "print('\\n############################')\n",
        "print('Mejor resultado')\n",
        "print('############################')\n",
        "print('linear + C: ', C[max_linear], ' res = ', round(linear[max_linear], 4))\n",
        "print('poly + C: ', C[max_poly], ' res = ', round(poly[max_poly], 4))\n",
        "print('rbf + C: ', C[max_rbf], ' res = ', round(rbf[max_rbf], 4))\n",
        "print('sigmoid + C: ', C[max_sigmoid], ' res = ', round(sigmoid[max_sigmoid], 4))"
      ]
    },
    {
      "cell_type": "code",
      "source": [
        "# Linear SVC, Tfid, Squared Hinge, C=2.0 & 0.4179\n",
        "C = 2.5\n",
        "kernel = 'linear'\n",
        "classifier_liblinear = svm.SVC(C=C ,kernel=kernel)\n",
        "classifier_liblinear.fit(train_matrix, train_labels)\n",
        "prediction_liblinear = classifier_liblinear.predict(dev_matrix)     \n",
        "print(classification_report(dev_labels, prediction_liblinear))\n"
      ],
      "metadata": {
        "colab": {
          "base_uri": "https://localhost:8080/"
        },
        "id": "9Rgay4x9ltDZ",
        "outputId": "4db0ded3-d9c0-4c65-ee7d-1d353bf21e4d"
      },
      "execution_count": null,
      "outputs": [
        {
          "output_type": "stream",
          "name": "stdout",
          "text": [
            "              precision    recall  f1-score   support\n",
            "\n",
            "           N       0.63      0.62      0.62       219\n",
            "         NEU       0.17      0.13      0.15        69\n",
            "        NONE       0.31      0.40      0.35        62\n",
            "           P       0.58      0.60      0.59       156\n",
            "\n",
            "    accuracy                           0.52       506\n",
            "   macro avg       0.42      0.44      0.43       506\n",
            "weighted avg       0.51      0.52      0.52       506\n",
            "\n"
          ]
        }
      ]
    },
    {
      "cell_type": "code",
      "execution_count": null,
      "metadata": {
        "colab": {
          "base_uri": "https://localhost:8080/",
          "height": 424
        },
        "id": "ZFeD4jtJ2L3a",
        "outputId": "e97cdb24-953e-4ea6-cade-9d55ac39a00f"
      },
      "outputs": [
        {
          "output_type": "stream",
          "name": "stdout",
          "text": [
            "# Linear SVC\n"
          ]
        },
        {
          "output_type": "stream",
          "name": "stderr",
          "text": [
            "100%|██████████| 2/2 [00:03<00:00,  1.75s/it]\n"
          ]
        },
        {
          "output_type": "display_data",
          "data": {
            "text/plain": [
              "<Figure size 432x288 with 1 Axes>"
            ],
            "image/png": "[encoded data removed]"
          },
          "metadata": {
            "needs_background": "light"
          }
        },
        {
          "output_type": "stream",
          "name": "stdout",
          "text": [
            "\n",
            "############################\n",
            "Mejor resultado\n",
            "############################\n",
            "squared_hinge + C:  2.0  res =  0.4179\n"
          ]
        }
      ],
      "source": [
        "import warnings\n",
        "warnings.filterwarnings('ignore')\n",
        "\n",
        "# Posibles parametros\n",
        "# 'loss' =  {'hinge', 'squared_hinge'}\n",
        "# C, default=1.0\n",
        "\n",
        "#C = [0.1, 0.15, 0.2, 0.25, 0.3, 0.35, 0.4, 0.45, 0.5, 0.55, 0.6, 0.65, 0.7, 0.75, 0.8, 0.85, 0.9, 0.95, 1, 2]\n",
        "C = [0.1, 0.25, 0.50, 0.75, 1.0, 1.50, 2.0, 2.5, 3.0, 4.0, 5.0, 6.0, 7.0, 8.0, 9.0, 10.0]\n",
        "losses = ['hinge', 'squared_hinge']\n",
        "\n",
        "res = {}\n",
        "hinge = [] \n",
        "squared = []\n",
        "\n",
        "print('# Linear SVC')\n",
        "\n",
        "for loss in tqdm(losses):\n",
        "  for value in C:    \n",
        "    classifier_liblinear = svm.LinearSVC(C=value, tol=0.01, loss=loss, max_iter=1000000000)\n",
        "    classifier_liblinear.fit(train_matrix, train_labels)\n",
        "    prediction_liblinear = classifier_liblinear.predict(dev_matrix)     \n",
        "    res[loss + '_' + str(value)] = classification_report(dev_labels, prediction_liblinear, output_dict = True)['macro avg']['f1-score']\n",
        "\n",
        "hinge = [ v for k,v in res.items() if 'hinge' in k]\n",
        "squared = [ v for k,v in res.items() if 'squared_hinge' in k]\n",
        "\n",
        "max_hinge = argsort(hinge)[-1]\n",
        "max_squared = argsort(squared)[-1]\n",
        "\n",
        "\n",
        "plt.clf()\n",
        "#plt.plot(C, hinge, color='red', label='Hinge')\n",
        "plt.plot(C, squared, color='blue', label='Squared Hinge')\n",
        "plt.xlabel('C Values')\n",
        "plt.ylabel('Macro F1')\n",
        "plt.title('Linear SVC Optimitzation')\n",
        "plt.legend()\n",
        "plt.show()\n",
        "\n",
        "print('\\n############################')\n",
        "print('Mejor resultado')\n",
        "print('############################')\n",
        "#print('hinge + C: ', C[max_hinge], ' res = ', hinge[max_hinge])\n",
        "print('squared_hinge + C: ', C[max_squared], ' res = ', round(squared[max_squared],4))\n",
        "\n"
      ]
    },
    {
      "cell_type": "code",
      "source": [
        "# Linear SVC, Tfid, Squared Hinge, C=2.0 & 0.4179\n",
        "C = 2.0\n",
        "loss = 'squared_hinge'\n",
        "classifier_liblinear = svm.LinearSVC(C=C, tol=0.01, loss=loss, max_iter=1000000000)\n",
        "classifier_liblinear.fit(train_matrix, train_labels)\n",
        "prediction_liblinear = classifier_liblinear.predict(dev_matrix)        \n",
        "print(classification_report(dev_labels, prediction_liblinear))\n"
      ],
      "metadata": {
        "colab": {
          "base_uri": "https://localhost:8080/"
        },
        "id": "1vK5VUBDnh5E",
        "outputId": "8d9fe55f-f079-44c0-c8ed-10ac128ced10"
      },
      "execution_count": null,
      "outputs": [
        {
          "output_type": "stream",
          "name": "stdout",
          "text": [
            "              precision    recall  f1-score   support\n",
            "\n",
            "           N       0.62      0.63      0.62       219\n",
            "         NEU       0.17      0.13      0.15        69\n",
            "        NONE       0.30      0.32      0.31        62\n",
            "           P       0.58      0.60      0.59       156\n",
            "\n",
            "    accuracy                           0.52       506\n",
            "   macro avg       0.42      0.42      0.42       506\n",
            "weighted avg       0.50      0.52      0.51       506\n",
            "\n"
          ]
        }
      ]
    },
    {
      "cell_type": "code",
      "execution_count": null,
      "metadata": {
        "colab": {
          "base_uri": "https://localhost:8080/",
          "height": 417
        },
        "id": "YqnAMyN62OXZ",
        "outputId": "dc4605fd-c6ed-45ab-b937-3299fd01d8fd"
      },
      "outputs": [
        {
          "output_type": "stream",
          "name": "stdout",
          "text": [
            "# Gausian\n"
          ]
        },
        {
          "output_type": "stream",
          "name": "stderr",
          "text": [
            "100%|██████████| 15/15 [05:21<00:00, 21.46s/it]\n"
          ]
        },
        {
          "output_type": "display_data",
          "data": {
            "text/plain": [
              "<Figure size 432x288 with 1 Axes>"
            ],
            "image/png": "[encoded data removed]"
          },
          "metadata": {
            "needs_background": "light"
          }
        },
        {
          "output_type": "stream",
          "name": "stdout",
          "text": [
            "\n",
            "############################\n",
            "Mejor resultado\n",
            "############################\n",
            "Smoothing:  0.1  res =  0.374\n"
          ]
        }
      ],
      "source": [
        "import warnings\n",
        "warnings.filterwarnings('ignore')\n",
        "# Posibles parametros\n",
        "# var_smoothing 1e-9 defecto\n",
        "\n",
        "res = {}\n",
        "smoots = [1.2, 1, 1e-1, 1e-2, 1e-3, 1e-4, 1e-5, 1e-6, 1e-7, 1e-8, 1e-9, 1e-10, 1e-11, 1e-12, 1e-14]\n",
        "\n",
        "print('# Gausian')\n",
        "for sm in tqdm(smoots):\n",
        "  classifier_liblinear = GaussianNB(var_smoothing = sm)\n",
        "  classifier_liblinear.fit(train_matrix.toarray(), train_labels)\n",
        "  prediction_liblinear = classifier_liblinear.predict(dev_matrix.toarray())\n",
        "  res[str(sm)] = classification_report(dev_labels, prediction_liblinear, output_dict = True)['macro avg']['f1-score']\n",
        "\n",
        "res_smoots = [v for k,v in res.items()]\n",
        "\n",
        "max_smoots = argsort(res_smoots)[-1]\n",
        "\n",
        "plt.clf()\n",
        "plt.plot(smoots, res_smoots, color='blue', label='Var Smoothing')\n",
        "plt.xlabel('Smoothing Values')\n",
        "plt.ylabel('Macro F1')\n",
        "plt.title('Gaussian Optimitzation')\n",
        "plt.legend()\n",
        "plt.show()\n",
        "\n",
        "print('\\n############################')\n",
        "print('Mejor resultado')\n",
        "print('############################')\n",
        "print('Smoothing: ', smoots[max_smoots], ' res = ', round(res_smoots[max_smoots], 4))"
      ]
    },
    {
      "cell_type": "code",
      "source": [
        "# Counter, Smoothing:  0.01\n",
        "sm = 0.01\n",
        "classifier_liblinear = GaussianNB(var_smoothing = sm)\n",
        "classifier_liblinear.fit(train_matrix.toarray(), train_labels)\n",
        "prediction_liblinear = classifier_liblinear.predict(dev_matrix.toarray())\n",
        "print(classification_report(dev_labels, prediction_liblinear))"
      ],
      "metadata": {
        "colab": {
          "base_uri": "https://localhost:8080/"
        },
        "id": "Q1L4_nZAoJD0",
        "outputId": "732842a8-b8a8-4b6a-ce01-d4f4acb15d0a"
      },
      "execution_count": null,
      "outputs": [
        {
          "output_type": "stream",
          "name": "stdout",
          "text": [
            "              precision    recall  f1-score   support\n",
            "\n",
            "           N       0.80      0.26      0.39       219\n",
            "         NEU       0.16      0.36      0.22        69\n",
            "        NONE       0.26      0.60      0.36        62\n",
            "           P       0.59      0.53      0.56       156\n",
            "\n",
            "    accuracy                           0.40       506\n",
            "   macro avg       0.45      0.44      0.38       506\n",
            "weighted avg       0.58      0.40      0.42       506\n",
            "\n"
          ]
        }
      ]
    },
    {
      "cell_type": "code",
      "execution_count": null,
      "metadata": {
        "colab": {
          "base_uri": "https://localhost:8080/",
          "height": 417
        },
        "id": "YWf7w8wB2QG5",
        "outputId": "153dbff7-6b92-4fc4-d913-5d5443e0db83"
      },
      "outputs": [
        {
          "output_type": "stream",
          "name": "stdout",
          "text": [
            "# Gradient Boosting\n"
          ]
        },
        {
          "output_type": "stream",
          "name": "stderr",
          "text": [
            "100%|██████████| 20/20 [5:55:49<00:00, 1067.47s/it]\n"
          ]
        },
        {
          "output_type": "display_data",
          "data": {
            "text/plain": [
              "<Figure size 432x288 with 1 Axes>"
            ],
            "image/png": "[encoded data removed]"
          },
          "metadata": {
            "needs_background": "light"
          }
        },
        {
          "output_type": "stream",
          "name": "stdout",
          "text": [
            "\n",
            "############################\n",
            "Mejor resultado\n",
            "############################\n",
            "Learning Rate:  4.0  res =  0.3713\n"
          ]
        }
      ],
      "source": [
        "import warnings\n",
        "warnings.filterwarnings('ignore')\n",
        "\n",
        "lrates = [1e-5, 1e-4, 1e-3, 1e-2, 1e-1, 0.25, 0.50, 0.75, 1.0, 1.50, 2.0, 2.5, 3.0, 4.0, 5.0, 6.0, 7.0, 8.0, 9.0, 10.0]\n",
        "\n",
        "res = {}\n",
        "\n",
        "print('# Gradient Boosting')\n",
        "\n",
        "for lrate in tqdm(lrates):\n",
        "  classifier_liblinear = GradientBoostingClassifier(n_estimators=1000, learning_rate=lrate, max_depth = 3, random_state = 0)\n",
        "  classifier_liblinear.fit(train_matrix, train_labels)\n",
        "  prediction_liblinear = classifier_liblinear.predict(dev_matrix)\n",
        "  res[str(lrate)] = classification_report(dev_labels, prediction_liblinear, output_dict = True)['macro avg']['f1-score']\n",
        "\n",
        "res_rates = [v for k,v in res.items()]\n",
        "\n",
        "max_lr = argsort(res_rates)[-1]\n",
        "\n",
        "plt.clf()\n",
        "#plt.plot(C, hinge, color='red', label='Hinge')\n",
        "plt.plot(lrates, res_rates, color='blue', label='Learning Rate Parameter')\n",
        "plt.xlabel('Learning Rate')\n",
        "plt.ylabel('Macro F1')\n",
        "plt.title('Gradient Boosting Optimitzation')\n",
        "plt.legend()\n",
        "plt.show()\n",
        "\n",
        "print('\\n############################')\n",
        "print('Mejor resultado')\n",
        "print('############################')\n",
        "print('Learning Rate: ', lrates[max_lr], ' res = ', round(res_rates[max_lr],4))"
      ]
    },
    {
      "cell_type": "code",
      "source": [
        "# Learning Rate 0.1, Tfid & 0.3956\n",
        "lrate = 1e-1\n",
        "\n",
        "classifier_liblinear = GradientBoostingClassifier(n_estimators=1000, learning_rate=lrate, max_depth = 3, random_state = 0)\n",
        "classifier_liblinear.fit(train_matrix, train_labels)\n",
        "prediction_liblinear = classifier_liblinear.predict(dev_matrix)\n",
        "print(classification_report(dev_labels, prediction_liblinear))"
      ],
      "metadata": {
        "colab": {
          "base_uri": "https://localhost:8080/"
        },
        "id": "q5elmQD9qWsy",
        "outputId": "85de25b3-581c-4c26-c140-0e97909b1ab5"
      },
      "execution_count": null,
      "outputs": [
        {
          "output_type": "stream",
          "name": "stdout",
          "text": [
            "              precision    recall  f1-score   support\n",
            "\n",
            "           N       0.60      0.67      0.64       219\n",
            "         NEU       0.20      0.16      0.18        69\n",
            "        NONE       0.24      0.19      0.22        62\n",
            "           P       0.55      0.56      0.55       156\n",
            "\n",
            "    accuracy                           0.51       506\n",
            "   macro avg       0.40      0.40      0.40       506\n",
            "weighted avg       0.49      0.51      0.50       506\n",
            "\n"
          ]
        }
      ]
    },
    {
      "cell_type": "code",
      "execution_count": null,
      "metadata": {
        "id": "AI2TGFHF2RWK",
        "colab": {
          "base_uri": "https://localhost:8080/",
          "height": 461
        },
        "outputId": "113be184-0da2-4036-ec52-48b1fb4776d9"
      },
      "outputs": [
        {
          "output_type": "stream",
          "name": "stdout",
          "text": [
            "# SGD\n"
          ]
        },
        {
          "output_type": "stream",
          "name": "stderr",
          "text": [
            "100%|██████████| 4/4 [00:00<00:00, 13.75it/s]\n"
          ]
        },
        {
          "output_type": "display_data",
          "data": {
            "text/plain": [
              "<Figure size 432x288 with 1 Axes>"
            ],
            "image/png": "[encoded data removed]"
          },
          "metadata": {
            "needs_background": "light"
          }
        },
        {
          "output_type": "stream",
          "name": "stdout",
          "text": [
            "\n",
            "############################\n",
            "Mejor resultado\n",
            "############################\n",
            "log + LR:  optimal  res =  0.4051\n",
            "squared_hinge + LR:  optimal  res =  0.407\n",
            "percepteron + LR:  invscaling  res =  0.3774\n"
          ]
        }
      ],
      "source": [
        "import warnings\n",
        "warnings.filterwarnings('ignore')\n",
        "\n",
        "lrates = ['constant', 'optimal', 'invscaling']\n",
        "losses = ['hinge', 'log', 'squared_hinge', 'perceptron']\n",
        "eta0 = 1e-4\n",
        "\n",
        "res = {}\n",
        "\n",
        "print('# SGD')\n",
        "\n",
        "for loss in tqdm(losses):\n",
        "  for lrate in lrates:\n",
        "    classifier_liblinear = SGDClassifier(loss = loss, learning_rate = lrate, eta0=eta0)\n",
        "    classifier_liblinear.fit(train_matrix, train_labels)\n",
        "    prediction_liblinear = classifier_liblinear.predict(dev_matrix)\n",
        "    res[loss + '_' + str(lrate)] = classification_report(dev_labels, prediction_liblinear, output_dict = True)['macro avg']['f1-score']\n",
        "\n",
        "res_hinge = [ v for k,v in res.items() if 'hinge' in k]\n",
        "res_log = [ v for k,v in res.items() if 'log' in k]\n",
        "res_squared_hinge = [ v for k,v in res.items() if 'squared_hinge' in k]\n",
        "res_perceptron = [ v for k,v in res.items() if 'perceptron' in k]\n",
        "\n",
        "max_hinge = argsort(res_hinge)[-1]\n",
        "max_log = argsort(res_log)[-1]\n",
        "max_squared_hinge = argsort(res_squared_hinge)[-1]\n",
        "max_perceptron = argsort(res_perceptron)[-1]\n",
        "\n",
        "plt.clf()\n",
        "#plt.plot(lrates, res_hinge, color='red', label='hinge')\n",
        "plt.plot(lrates, res_log, color='blue', label='log')\n",
        "plt.plot(lrates, res_squared_hinge, color='green', label='squared hinge')\n",
        "plt.plot(lrates, res_perceptron, color='violet', label='perceptron')\n",
        "plt.xlabel('Learning Rate')\n",
        "plt.ylabel('Macro F1')\n",
        "plt.title('SGD Optimitzation')\n",
        "plt.legend()\n",
        "plt.show()\n",
        "\n",
        "\n",
        "print('\\n############################')\n",
        "print('Mejor resultado')\n",
        "print('############################')\n",
        "#print('hinge + LR: ', lrates[max_hinge], ' res = ', res_hinge[max_hinge])\n",
        "print('log + LR: ', lrates[max_log], ' res = ', round(res_log[max_log],4))\n",
        "print('squared_hinge + LR: ', lrates[max_squared_hinge], ' res = ', round(res_squared_hinge[max_squared_hinge],4))\n",
        "print('percepteron + LR: ', lrates[max_perceptron], ' res = ', round(res_perceptron[max_perceptron],4))"
      ]
    },
    {
      "cell_type": "code",
      "source": [
        "lrate = 'constant'\n",
        "loss = 'perceptron'\n",
        "eta0 = 1e-4\n",
        "classifier_liblinear = SGDClassifier(loss = loss, learning_rate = lrate, eta0=eta0)\n",
        "classifier_liblinear.fit(train_matrix, train_labels)\n",
        "prediction_liblinear = classifier_liblinear.predict(dev_matrix)\n",
        "print(classification_report(dev_labels, prediction_liblinear))"
      ],
      "metadata": {
        "colab": {
          "base_uri": "https://localhost:8080/"
        },
        "id": "96mdDVCvr80L",
        "outputId": "cb805846-a2e7-4245-ab62-5ec655e6ffca"
      },
      "execution_count": null,
      "outputs": [
        {
          "output_type": "stream",
          "name": "stdout",
          "text": [
            "              precision    recall  f1-score   support\n",
            "\n",
            "           N       0.59      0.43      0.50       219\n",
            "         NEU       0.14      0.17      0.16        69\n",
            "        NONE       0.25      0.40      0.31        62\n",
            "           P       0.53      0.55      0.54       156\n",
            "\n",
            "    accuracy                           0.43       506\n",
            "   macro avg       0.38      0.39      0.38       506\n",
            "weighted avg       0.47      0.43      0.44       506\n",
            "\n"
          ]
        }
      ]
    },
    {
      "cell_type": "code",
      "execution_count": null,
      "metadata": {
        "id": "QHmPVZSf2ShY",
        "colab": {
          "base_uri": "https://localhost:8080/",
          "height": 480
        },
        "outputId": "2f67ba89-3b2a-404c-9769-ce729553ab09"
      },
      "outputs": [
        {
          "output_type": "stream",
          "name": "stdout",
          "text": [
            "# KNN\n"
          ]
        },
        {
          "output_type": "stream",
          "name": "stderr",
          "text": [
            "100%|██████████| 4/4 [00:01<00:00,  2.55it/s]\n"
          ]
        },
        {
          "output_type": "display_data",
          "data": {
            "text/plain": [
              "<Figure size 432x288 with 1 Axes>"
            ],
            "image/png": "[encoded data removed]"
          },
          "metadata": {
            "needs_background": "light"
          }
        },
        {
          "output_type": "stream",
          "name": "stdout",
          "text": [
            "\n",
            "############################\n",
            "Mejor resultado\n",
            "############################\n",
            "auto + neighbors:  1  res =  0.3865\n",
            "ball tree + neighbors:  1  res =  0.3865\n",
            "kd tree + neighbors:  1  res =  0.3865\n",
            "brute + neighbors:  1  res =  0.3865\n"
          ]
        }
      ],
      "source": [
        "import warnings\n",
        "warnings.filterwarnings('ignore')\n",
        "\n",
        "algorithms = ['auto', 'ball_tree', 'kd_tree', 'brute']\n",
        "neighbors = [1,2,3,4,5,6,7,8,9,10]\n",
        "\n",
        "res = {}\n",
        "\n",
        "print('# KNN')\n",
        "\n",
        "for alg in tqdm(algorithms):\n",
        "  for nei in neighbors:\n",
        "    classifier_liblinear = neighbors_lib.KNeighborsClassifier(n_neighbors = nei, algorithm=alg)  \n",
        "    classifier_liblinear.fit(train_matrix, train_labels)\n",
        "    prediction_liblinear = classifier_liblinear.predict(dev_matrix)\n",
        "    res[alg + '_' + str(nei)] = classification_report(dev_labels, prediction_liblinear, output_dict = True)['macro avg']['f1-score']\n",
        "\n",
        "res_auto = [ v for k,v in res.items() if 'auto' in k]\n",
        "res_ball = [ v for k,v in res.items() if 'ball_tree' in k]\n",
        "res_kd = [ v for k,v in res.items() if 'kd_tree' in k]\n",
        "res_brute = [ v for k,v in res.items() if 'brute' in k]\n",
        "\n",
        "max_auto = argsort(res_auto)[-1]\n",
        "max_ball = argsort(res_ball)[-1]\n",
        "max_kd = argsort(res_kd)[-1]\n",
        "max_brute = argsort(res_brute)[-1]\n",
        "\n",
        "plt.clf()\n",
        "plt.plot(neighbors, res_auto, color='blue', label='auto')\n",
        "plt.plot(neighbors, res_ball, color='red', label='ball tree')\n",
        "plt.plot(neighbors, res_kd, color='green', label='kd tree')\n",
        "plt.plot(neighbors, res_brute, color='violet', label='brute')\n",
        "plt.xlabel('Neighbors')\n",
        "plt.ylabel('Macro F1')\n",
        "plt.title('KNN Optimitzation')\n",
        "plt.legend()\n",
        "plt.show()\n",
        "\n",
        "print('\\n############################')\n",
        "print('Mejor resultado')\n",
        "print('############################')\n",
        "print('auto + neighbors: ', neighbors[max_auto], ' res = ', round(res_auto[max_auto],4))\n",
        "print('ball tree + neighbors: ', neighbors[max_ball], ' res = ', round(res_ball[max_ball],4))\n",
        "print('kd tree + neighbors: ', neighbors[max_kd], ' res = ', round(res_kd[max_kd],4))\n",
        "print('brute + neighbors: ', neighbors[max_brute], ' res = ', round(res_brute[max_brute],4))"
      ]
    },
    {
      "cell_type": "code",
      "source": [
        "# Cualquier algoritmo, Tfid, 1 vecino\n",
        "\n",
        "alg = 'auto'\n",
        "neighbors = 1\n",
        "classifier_liblinear = neighbors_lib.KNeighborsClassifier(n_neighbors = neighbors, algorithm=alg)  \n",
        "classifier_liblinear.fit(train_matrix, train_labels)\n",
        "prediction_liblinear = classifier_liblinear.predict(dev_matrix)\n",
        "print(classification_report(dev_labels, prediction_liblinear))"
      ],
      "metadata": {
        "colab": {
          "base_uri": "https://localhost:8080/"
        },
        "id": "IfRv5ifWs_h8",
        "outputId": "3a08a536-8d6b-44b9-ccbc-3c4567529a63"
      },
      "execution_count": null,
      "outputs": [
        {
          "output_type": "stream",
          "name": "stdout",
          "text": [
            "              precision    recall  f1-score   support\n",
            "\n",
            "           N       0.61      0.53      0.56       219\n",
            "         NEU       0.17      0.14      0.16        69\n",
            "        NONE       0.23      0.37      0.28        62\n",
            "           P       0.54      0.54      0.54       156\n",
            "\n",
            "    accuracy                           0.46       506\n",
            "   macro avg       0.39      0.40      0.39       506\n",
            "weighted avg       0.48      0.46      0.47       506\n",
            "\n"
          ]
        }
      ]
    },
    {
      "cell_type": "markdown",
      "metadata": {
        "id": "8p6_Nj59WGkV"
      },
      "source": [
        "4. Una vez elegido el mejor clasificador con los mejores parámetros, recursos, y preproceso, aplicarlo al\n",
        "test."
      ]
    },
    {
      "cell_type": "code",
      "execution_count": null,
      "metadata": {
        "id": "j4O-zY0PWpHk",
        "colab": {
          "base_uri": "https://localhost:8080/"
        },
        "outputId": "cfde2e9d-f5a5-43c1-fffa-92e5717a2fa9"
      },
      "outputs": [
        {
          "output_type": "stream",
          "name": "stdout",
          "text": [
            "# SVC, Linear. C=2.5\n",
            "['NONE' 'N' 'P' ... 'NEU' 'N' 'N']\n"
          ]
        }
      ],
      "source": [
        "import warnings\n",
        "warnings.filterwarnings('ignore')\n",
        "\n",
        "#VEctorización Tfid\n",
        "# Mejores parámetros\n",
        "C = 2.5\n",
        "kernel = 'linear'\n",
        "print('# SVC, Linear. C=2.5')\n",
        "\n",
        "res = {}\n",
        "linear = [] \n",
        "\n",
        "classifier_liblinear = svm.SVC(C=C ,kernel=kernel)\n",
        "classifier_liblinear.fit(train_matrix, train_labels)\n",
        "prediction_liblinear = classifier_liblinear.predict(test_matrix) \n",
        "print(prediction_liblinear)\n",
        "\n",
        "with open(res_folder + 'JoseJavierCalvoMoratilla_SCV.txt', 'w') as f:\n",
        "  for i, pred in enumerate(prediction_liblinear.tolist()):\n",
        "    f.write(test_ids[i] + '\\t' + pred + '\\n')"
      ]
    },
    {
      "cell_type": "markdown",
      "metadata": {
        "id": "12cjFkcIWnFp"
      },
      "source": [
        "5. La salida del test, la tenéis que enviar para que os la evalúe, en un fichero texto, el nombre del fichero\n",
        "que sea vuestro ‘nombre’ seguido del ‘tipo de clasificador’ (Ex. CarlosPerez_svm.txt) y el formato:\n",
        "id_del_tweet \\t etiqueta_polaridad (P,N,NEU,NONE)"
      ]
    },
    {
      "cell_type": "markdown",
      "metadata": {
        "id": "slwz7RXBWp1u"
      },
      "source": [
        "6. Deberéis hacer una pequeña memoria que describa los clasificadores utilizados y el proceso de ajuste\n",
        "realizado sobre el conjunto ‘dev’ incluyendo las tablas de los resultados en términos de P, R, F1 (clase),\n",
        "Accuracy y macroF1 (global). La medida para evaluar y hacer el ranking de los sistemas será la macroF1,\n",
        "por lo tanto enviad la salida del sistema que mayor macroF1 obtenga.\n"
      ]
    }
  ],
  "metadata": {
    "colab": {
      "collapsed_sections": [],
      "name": "ALC_P2.ipynb",
      "provenance": [],
      "machine_shape": "hm"
    },
    "kernelspec": {
      "display_name": "Python 3",
      "name": "python3"
    },
    "language_info": {
      "name": "python"
    }
  },
  "nbformat": 4,
  "nbformat_minor": 0
}