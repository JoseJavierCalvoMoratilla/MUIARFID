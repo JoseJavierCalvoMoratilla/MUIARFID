{
  "nbformat": 4,
  "nbformat_minor": 0,
  "metadata": {
    "colab": {
      "name": "CalvoMoratillaJoseJavier_Medidas.ipynb",
      "provenance": [],
      "collapsed_sections": []
    },
    "kernelspec": {
      "name": "python3",
      "display_name": "Python 3"
    },
    "language_info": {
      "name": "python"
    }
  },
  "cells": [
    {
      "cell_type": "markdown",
      "source": [
        "# BIOMETRIA MIARFID 2021/2022\n",
        "\n",
        "Ejercicio Curva ROC\n",
        "\n",
        "José Javier Calvo Moratilla"
      ],
      "metadata": {
        "id": "YoKCv1YcIPDm"
      }
    },
    {
      "cell_type": "markdown",
      "source": [
        " Preparación datos y librerias"
      ],
      "metadata": {
        "id": "hwGGtdf5FdJv"
      }
    },
    {
      "cell_type": "code",
      "execution_count": null,
      "metadata": {
        "colab": {
          "base_uri": "https://localhost:8080/"
        },
        "id": "FMqihxb4LexV",
        "outputId": "d2822f53-00fc-41f5-96cf-2b3920ba05bf"
      },
      "outputs": [
        {
          "output_type": "stream",
          "name": "stdout",
          "text": [
            "0.2scoresA_clientes  scoresA_impostores  scoresB_clientes\tscoresB_impostores\n"
          ]
        }
      ],
      "source": [
        "# Carpeta de Google Drive\n",
        "folder_medidas = \"drive/MyDrive/MUIARFID/BIOM/medidas/\"\n",
        "!ls \"drive/MyDrive/MUIARFID/BIOM/medidas/\"\n",
        "\n",
        "import numpy as np\n",
        "import pandas as pd\n",
        "import matplotlib.pyplot as plt\n",
        "import seaborn as sns\n",
        "from sklearn.datasets import make_classification\n",
        "from sklearn.ensemble import RandomForestClassifier\n",
        "from sklearn.model_selection import train_test_split\n",
        "from sklearn.metrics import roc_curve"
      ]
    },
    {
      "cell_type": "markdown",
      "source": [
        "Se leen los scores de los ficheros de entrada"
      ],
      "metadata": {
        "id": "tzRkinpjFh1T"
      }
    },
    {
      "cell_type": "code",
      "source": [
        "# Se leen los scores y se almacenan en listas\n",
        "def leerScore(fichero):\n",
        "  res = []\n",
        "  with open(folder_medidas + fichero) as file:\n",
        "    data = file.readlines()\n",
        "\n",
        "    for d in data:\n",
        "      linea = d.replace('\\n', '')\n",
        "      res.append((int(linea[0:4]), float(linea[6:])))\n",
        "  return res\n",
        "\n",
        "scoreA_clientes = leerScore(\"scoresA_clientes\")\n",
        "scoreA_impostores = leerScore(\"scoresA_impostores\")\n",
        "scoreB_clientes = leerScore(\"scoresB_clientes\")\n",
        "scoreB_impostores = leerScore(\"scoresB_impostores\")\n"
      ],
      "metadata": {
        "id": "EWUp02FnM3iq"
      },
      "execution_count": null,
      "outputs": []
    },
    {
      "cell_type": "markdown",
      "source": [
        "Función para obtener Vp, FB de un umbral"
      ],
      "metadata": {
        "id": "npuH8KpzFmdb"
      }
    },
    {
      "cell_type": "code",
      "source": [
        "# Medidas VP, FP\n",
        "# VP = clientes que superan el umbral del total\n",
        "# FP = Impostor que superans el umbral del total\n",
        "\n",
        "def calcularVPFP(lista, umbral):\n",
        "  superan_umbral = 0\n",
        "  len_total = len(lista)\n",
        "\n",
        "  for persona, score in lista:\n",
        "    if score > umbral:\n",
        "      superan_umbral += 1\n",
        "  \n",
        "  return superan_umbral / len_total\n"
      ],
      "metadata": {
        "id": "eG7mztjAQpod"
      },
      "execution_count": null,
      "outputs": []
    },
    {
      "cell_type": "markdown",
      "source": [
        "Se genera la lista de Umbrales y sus respectivos FP y FN"
      ],
      "metadata": {
        "id": "rsgn6pYCFsC8"
      }
    },
    {
      "cell_type": "code",
      "source": [
        "# Sacar umbrales\n",
        "def generar_serie_roc(lista_clientes,lista_impostores):\n",
        "  res_clientes = []\n",
        "  res_impostores = []\n",
        "\n",
        "  set_scores = set()\n",
        "\n",
        "  # recogemos scores de clientes  \n",
        "  for x in lista_clientes:\n",
        "    set_scores.add(x[1])\n",
        "\n",
        "  # recogemos scores de impostores\n",
        "  for x in lista_impostores:\n",
        "    set_scores.add(x[1])\n",
        "  \n",
        "  # Se recorre cada umbral y se calculan los FP y VP para cada umbral\n",
        "  for umbral in sorted(set_scores):\n",
        "    res_clientes.append(calcularVPFP(lista_clientes, umbral))\n",
        "    res_impostores.append(calcularVPFP(lista_impostores, umbral))\n",
        "  \n",
        "  return res_clientes, res_impostores, list(sorted(set_scores))\n",
        "\n",
        "VPA, FPA, THA = generar_serie_roc(scoreA_clientes, scoreA_impostores)\n",
        "VPB, FPB, THB = generar_serie_roc(scoreB_clientes, scoreB_impostores)"
      ],
      "metadata": {
        "id": "l2JxNzWYBdJx"
      },
      "execution_count": null,
      "outputs": []
    },
    {
      "cell_type": "markdown",
      "source": [
        "Curva ROC para scores A, B"
      ],
      "metadata": {
        "id": "XDZEi0ybFy4T"
      }
    },
    {
      "cell_type": "code",
      "source": [
        "# Curva ROC\n",
        "def plot_roc_curve(fperA, tperA, fperB, tperB):\n",
        "    plt.plot(fperA, tperA, color='red', label='ROC_A')\n",
        "    plt.plot(fperB, tperB, color='Blue', label='ROC_B')\n",
        "    plt.plot([0, 1], [0, 1], color='green', linestyle='--')\n",
        "    plt.xlabel('False Positive Rate')\n",
        "    plt.ylabel('True Positive Rate')\n",
        "    plt.title('Receiver Operating Characteristic Curve')\n",
        "    plt.legend()\n",
        "    plt.show()\n",
        "\n",
        "plot_roc_curve(FPA, VPA, FPB, VPB)"
      ],
      "metadata": {
        "colab": {
          "base_uri": "https://localhost:8080/",
          "height": 295
        },
        "id": "KfJ_Gon0W4Kf",
        "outputId": "c04df466-b141-437a-cc0c-85cbfac310e9"
      },
      "execution_count": null,
      "outputs": [
        {
          "output_type": "display_data",
          "data": {
            "image/png": "[encoded data removed]",
            "text/plain": [
              "<Figure size 432x288 with 1 Axes>"
            ]
          },
          "metadata": {
            "needs_background": "light"
          }
        }
      ]
    },
    {
      "cell_type": "code",
      "source": [
        "# Optimizamos FP(FN = Y) y umbral\n",
        "# Scores de impostores, Scores de clientes\n",
        "# Tengo VP y FP\n",
        "\n",
        "\n",
        "def optim_FP(lista_VP, lista_FP, lista_TH): \n",
        "  Y = float(input()) # FN\n",
        "\n",
        "  res_FP = []\n",
        "  res_TH = []\n",
        "\n",
        "  min_dif_izq = 1.0\n",
        "  min_dif_der = 1.0\n",
        "  min_izq = 1.0\n",
        "  min_der = 1.0    \n",
        "\n",
        "  for valor_VP in lista_VP:   \n",
        "\n",
        "    valor_FN = (1 - valor_VP)\n",
        "\n",
        "    if (Y - valor_FN < min_dif_izq) and ((Y - valor_FN) > 0):\n",
        "      min_dif_izq = Y - valor_FN\n",
        "      min_izq = valor_FN\n",
        "\n",
        "    if (valor_FN - Y < min_dif_der) and ((valor_FN - Y) > 0):\n",
        "      min_dif_der = valor_FN - Y\n",
        "      min_der = valor_FN\n",
        "\n",
        "  minimos = [min_izq, min_der]\n",
        "  print('Valores más próximos: ', minimos)\n",
        "\n",
        "    # Recorremos todos los FN\n",
        "  for index, valor in enumerate(lista_VP): # valores de FN de A -> (1-VP)\n",
        "          \n",
        "    if (1 - valor) in minimos: # Si el valor de FN es < X      \n",
        "      res_FP.append(lista_FP[index])\n",
        "      res_TH.append(lista_TH[index])\n",
        "\n",
        "  print('Lista Falsos Positivos ', res_FP)\n",
        "  print('Lista th: ', res_TH)\n",
        "\n",
        "\n",
        "print('Optim FN A')\n",
        "optim_FP(VPA, FPA, THA)\n",
        "print('Optim FN B')\n",
        "optim_FP(VPB, FPB, THB)"
      ],
      "metadata": {
        "colab": {
          "base_uri": "https://localhost:8080/"
        },
        "id": "WtT_0UO8OJHU",
        "outputId": "2fc38342-4bb1-4445-e895-df6a41e0f713"
      },
      "execution_count": null,
      "outputs": [
        {
          "output_type": "stream",
          "name": "stdout",
          "text": [
            "Optim FN A\n",
            "0.2\n",
            "Valores más próximos:  [0.19999999999999996, 0.20069930069930075]\n",
            "Lista Falsos Positivos  [0.2064102564102564, 0.2064102564102564, 0.20576923076923076, 0.20512820512820512, 0.20448717948717948]\n",
            "Lista th:  [0.049813, 0.049877, 0.049942, 0.049971, 0.05]\n",
            "Optim FN B\n",
            "0.2\n",
            "Valores más próximos:  [0.19999999999999996, 0.20069930069930075]\n",
            "Lista Falsos Positivos  [0.2076923076923077, 0.2076923076923077, 0.20705128205128207, 0.2064102564102564, 0.20576923076923076, 0.20512820512820512, 0.20448717948717948]\n",
            "Lista th:  [0.041949, 0.041991, 0.042208, 0.042396, 0.042584, 0.042614, 0.042627]\n"
          ]
        }
      ]
    },
    {
      "cell_type": "code",
      "source": [
        "# optimizamos FN(FP = X) y umbral\n",
        "# Tengo VP y FP\n",
        "# Necesito FN y FP\n",
        "\n",
        "def optim_FN(lista_VP, lista_FP, lista_TH):\n",
        "  X = float(input()) # FP\n",
        "  \n",
        "  res_FN = []\n",
        "  res_TH = []   \n",
        "\n",
        "  #Tenemos que obtener los puntos más cercanos\n",
        "  min_dif_izq = 1.0\n",
        "  min_dif_der = 1.0\n",
        "  min_izq = 1.0\n",
        "  min_der = 1.0     \n",
        "\n",
        "  min_dif_izq = 1.0\n",
        "  min_dif_der = 1.0\n",
        "  min_izq = 1.0\n",
        "  min_der = 1.0    \n",
        "\n",
        "  for valor_FP in lista_FP:    \n",
        "\n",
        "    if (X - valor_FP < min_dif_izq) and ((X - valor_FP) > 0):\n",
        "      min_dif_izq = X - valor_FP\n",
        "      min_izq = valor_FP\n",
        "\n",
        "    if (valor_FP - X < min_dif_der) and ((valor_FP - X) > 0):\n",
        "      min_dif_der = valor_FP - X\n",
        "      min_der = valor_FP\n",
        "\n",
        "  minimos = [min_izq, min_der]\n",
        "  print('Valores más próximos: ', minimos)\n",
        "\n",
        "  # Recorremos todos los FN\n",
        "  for index, valor in enumerate(lista_FP): # valores de FN de A -> (1-VP)\n",
        "          \n",
        "    if valor in minimos: # Si el valor de FN es < X      \n",
        "      res_FN.append(1 - lista_VP[index])\n",
        "      res_TH.append(lista_TH[index])\n",
        "\n",
        "  print('Lista Falsos Negativos ', res_FN)\n",
        "  print('Lista th: ', res_TH)\n",
        "\n",
        "print('Optim FN A')\n",
        "optim_FN(VPA, FPA, THA)\n",
        "print('Optim FN B')\n",
        "#print(VPB)\n",
        "#print(FPB)\n",
        "optim_FN(VPB, FPB, THB)"
      ],
      "metadata": {
        "colab": {
          "base_uri": "https://localhost:8080/"
        },
        "id": "CUPByK2WVjCk",
        "outputId": "ffe36df6-a4a6-4940-c55d-1fc489f0814c"
      },
      "execution_count": null,
      "outputs": [
        {
          "output_type": "stream",
          "name": "stdout",
          "text": [
            "Optim FN A\n",
            "0.2\n",
            "Valores más próximos:  [0.19935897435897437, 0.20064102564102565]\n",
            "Lista Falsos Negativos  [0.2027972027972028, 0.2034965034965035]\n",
            "Lista th:  [0.050378, 0.050595]\n",
            "Optim FN B\n",
            "0.2\n",
            "Valores más próximos:  [0.19935897435897437, 0.20064102564102565]\n",
            "Lista Falsos Negativos  [0.2097902097902098, 0.21048951048951048, 0.21118881118881117, 0.21188811188811185, 0.21258741258741254, 0.21398601398601402, 0.2146853146853147]\n",
            "Lista th:  [0.044444, 0.044465, 0.044473, 0.044643, 0.044761, 0.045517, 0.045561]\n"
          ]
        }
      ]
    },
    {
      "cell_type": "code",
      "source": [
        "# FP = FN y umbral\n",
        "def optim_FPFN(lista_VP, lista_FP, lista_TH):\n",
        "\n",
        "  res = []\n",
        "  res_TH = []\n",
        "\n",
        "  for index, valor in enumerate(lista_FP): # valores de VP de A -> FN (1-VP)\n",
        "\n",
        "    # Aproximacion a un decimal\n",
        "    valFP = round(lista_FP[index], 2)\n",
        "    valFN = round(1 - lista_VP[index], 2)\n",
        "\n",
        "    if valFP == valFN:\n",
        "      res.append(valFP)\n",
        "      res_TH.append(lista_TH[index])\n",
        "\n",
        "  print('Lista Falsos Negativos y Falsos negativos ', res)\n",
        "  print('Lista th: ', res_TH)\n",
        "\n",
        "print('Optim FN A')\n",
        "optim_FPFN(VPA, FPA, THA)\n",
        "print('Optim FN B')\n",
        "optim_FPFN(VPB, FPB, THB)\n"
      ],
      "metadata": {
        "id": "Y1cf6KEYpRGh",
        "colab": {
          "base_uri": "https://localhost:8080/"
        },
        "outputId": "fb5ea343-7387-4494-a6c3-e95a46c66d61"
      },
      "execution_count": null,
      "outputs": [
        {
          "output_type": "stream",
          "name": "stdout",
          "text": [
            "Optim FN A\n",
            "Lista Falsos Negativos y Falsos negativos  [0.2, 0.2, 0.2, 0.2, 0.2, 0.2, 0.2, 0.2, 0.2, 0.2, 0.2, 0.2, 0.2, 0.2, 0.2, 0.2, 0.2, 0.2]\n",
            "Lista th:  [0.05, 0.050058, 0.050114, 0.050144, 0.050248, 0.050255, 0.050307, 0.050331, 0.050333, 0.050378, 0.050401, 0.050524, 0.050595, 0.050633, 0.050678, 0.050926, 0.050932, 0.050933]\n",
            "Optim FN B\n",
            "Lista Falsos Negativos y Falsos negativos  [0.2, 0.2, 0.2, 0.2, 0.2, 0.2, 0.2, 0.2, 0.2, 0.2, 0.2]\n",
            "Lista th:  [0.042627, 0.04277, 0.042802, 0.04315, 0.04343, 0.043529, 0.043767, 0.043833, 0.043884, 0.043896, 0.043931]\n"
          ]
        }
      ]
    },
    {
      "cell_type": "markdown",
      "source": [
        "Experimento para ejemplo diapositivas"
      ],
      "metadata": {
        "id": "k5UynORMFVON"
      }
    },
    {
      "cell_type": "code",
      "source": [
        "def calcularVPFP_ejemplo(lista, umbral):\n",
        "  superan_umbral = 0\n",
        "  len_total = len(lista)\n",
        "\n",
        "  for score in lista:\n",
        "    if score > umbral:\n",
        "      superan_umbral += 1\n",
        "  \n",
        "  return superan_umbral / len_total\n",
        "\n",
        "\n",
        "# Sacar umbrales\n",
        "def generar_serie_roc_prueba(lista_clientes,lista_impostores):\n",
        "  res_clientes = []\n",
        "  res_impostores = []\n",
        "\n",
        "  set_scores = set()\n",
        "\n",
        "  # recogemos scores de clientes  \n",
        "  for x in lista_clientes:\n",
        "    set_scores.add(x)\n",
        "\n",
        "  # recogemos scores de impostores\n",
        "  for x in lista_impostores:\n",
        "    set_scores.add(x)\n",
        "  \n",
        "  # Se recorre cada umbral y se calculan los FP y VP para cada umbral\n",
        "  for umbral in sorted(set_scores):\n",
        "    res_clientes.append(calcularVPFP_ejemplo(lista_clientes, umbral))\n",
        "    res_impostores.append(calcularVPFP_ejemplo(lista_impostores, umbral))\n",
        "  \n",
        "  return res_clientes, res_impostores, list(sorted(set_scores))\n",
        "\n",
        "\n",
        "clientes = [0.9, 0.7,0.7,0.8,0.4]\n",
        "impostores = [0.2, 0.1,0.5,0.5,0.3]\n",
        "th = [0.0,0.1,0.2,0.3,0.4,0.5,0.5,0.7,0.7,0.8,0.8,1.0]\n",
        "\n",
        "VP, FP, TH = generar_serie_roc_prueba(clientes, impostores)\n",
        "\n",
        "plt.plot(FP, VP, color='red', label='ROC_A')\n",
        "plt.plot([0, 1], [0, 1], color='green', linestyle='--')\n",
        "plt.xlabel('False Positive Rate')\n",
        "plt.ylabel('True Positive Rate')\n",
        "plt.title('Receiver Operating Characteristic Curve')\n",
        "plt.legend()\n",
        "plt.show()\n",
        "\n",
        "#optim_FN(VP, FP, TH)\n",
        "#optim_FP(VP, FP, TH)\n",
        "optim_FPFN(VP, FP, TH)\n"
      ],
      "metadata": {
        "colab": {
          "base_uri": "https://localhost:8080/",
          "height": 330
        },
        "id": "wwAk6V7gheRB",
        "outputId": "36a99e0c-5324-45b7-beae-6a206b3772fa"
      },
      "execution_count": null,
      "outputs": [
        {
          "output_type": "display_data",
          "data": {
            "image/png": "[encoded data removed]",
            "text/plain": [
              "<Figure size 432x288 with 1 Axes>"
            ]
          },
          "metadata": {
            "needs_background": "light"
          }
        },
        {
          "output_type": "stream",
          "name": "stdout",
          "text": [
            "Lista Falsos Negativos y Falsos negativos  []\n",
            "Lista th:  []\n"
          ]
        }
      ]
    },
    {
      "cell_type": "markdown",
      "source": [
        "Experimento para scores Ejemplo Diapositivas, A, B "
      ],
      "metadata": {
        "id": "5AHWfkO7FZBi"
      }
    },
    {
      "cell_type": "code",
      "source": [
        "# Area bajo la curva ROC Vieja\n",
        "\n",
        "def punto_max_x(lista_x, lista_y, val_x):\n",
        "  res = 0.0\n",
        "  for idx, val in enumerate(lista_x):\n",
        "    if round(val, 2) == round(val_x, 2):\n",
        "      if lista_y[idx] > res:\n",
        "        res = lista_y[idx]\n",
        "  return res\n",
        "\n",
        "\n",
        "# Recorremos todos los X\n",
        "# Por cada X obtienes la lista de valores en VP y te quedas con el mayor\n",
        "# Obtienes el menor\n",
        "def AUC(lista_FP, lista_VP):\n",
        "  assert len(lista_FP) == len(lista_VP)\n",
        "  area = 0\n",
        "\n",
        "  #Se recorre las X para sacar los trapecios\n",
        "  for idx, val_x in enumerate(lista_FP):\n",
        "    if idx < len(lista_FP) - 1:\n",
        "          \n",
        "      #Obtenemos el valor máximo de Y para un X concreto\n",
        "              \n",
        "      #y\n",
        "      VP1 = punto_max_x(lista_FP, lista_VP, lista_FP[idx])      \n",
        "\n",
        "      # X\n",
        "      FP1 = lista_FP[idx]#X (t1)\n",
        "      FP2 = lista_FP[idx+1]#X (t2)\n",
        "\n",
        "      # area = 1/2*(C1+C2)*(t2-t1)\"\n",
        "      area += VP1*(FP2-FP1)\n",
        "  return round(area, 4)   \n",
        "\n",
        "print(AUC(sorted(FP + [0.0, 1.0]), sorted(VP + [0.0, 1.0])))\n",
        "print(AUC(sorted(FPA + [0.0, 1.0]), sorted(VPA + [0.0, 1.0])))  \n",
        "print(AUC(sorted(FPB+ [0.0, 1.0]), sorted(VPB+ [0.0, 1.0])))"
      ],
      "metadata": {
        "id": "ot1zgreXpR_g",
        "colab": {
          "base_uri": "https://localhost:8080/"
        },
        "outputId": "187d9f96-0382-439a-96ea-1be7427792f8"
      },
      "execution_count": null,
      "outputs": [
        {
          "output_type": "stream",
          "name": "stdout",
          "text": [
            "0.92\n",
            "0.8851\n",
            "0.8755\n"
          ]
        }
      ]
    },
    {
      "cell_type": "code",
      "source": [
        "def heuristica(c, i):\n",
        "\n",
        "  res = 0.0\n",
        "\n",
        "  if c > i:\n",
        "    res = 1.0\n",
        "  elif c < i:\n",
        "    res = 0.0\n",
        "  else:\n",
        "    res = 0.5\n",
        "\n",
        "  return res   \n",
        "\n",
        "# Area curva ROC nueva\n",
        "def MWU_ROC_ejemplo(scores_cli, scores_imp):\n",
        "  \n",
        "  sumatorios = 0.0\n",
        "\n",
        "  # AUC= 1/(C * I) * Sum sum h(Sc, Si)\n",
        "  C = len(scores_cli)\n",
        "  I = len(scores_imp)\n",
        "\n",
        "  for c in scores_cli:\n",
        "    for i in scores_imp:\n",
        "      \n",
        "      sumatorios += heuristica(c, i)\n",
        "  \n",
        "  return (1 / (C * I)) * sumatorios\n",
        "\n",
        "# Area curva ROC nueva\n",
        "def MWU_ROC(scores_cli, scores_imp):\n",
        "  \n",
        "  sumatorios = 0.0\n",
        "\n",
        "  # AUC= 1/(C * I) * Sum sum h(Sc, Si)\n",
        "  C = len(scores_cli)\n",
        "  I = len(scores_imp)\n",
        "\n",
        "  for c in scores_cli:\n",
        "    for i in scores_imp:\n",
        "      \n",
        "      sumatorios += heuristica(c[1], i[1])\n",
        "  \n",
        "  return (1 / (C * I)) * sumatorios\n",
        "\n",
        "scoreE_clientes = [0.9, 0.7,0.7,0.8,0.4]\n",
        "scoreE_impostores = [0.2, 0.1,0.5,0.5,0.3]\n",
        "\n",
        "print(MWU_ROC_ejemplo(scoreE_clientes, scoreE_impostores))\n",
        "print(MWU_ROC(scoreA_clientes, scoreA_impostores))\n",
        "print(MWU_ROC(scoreB_clientes, scoreB_impostores))\n",
        "  "
      ],
      "metadata": {
        "colab": {
          "base_uri": "https://localhost:8080/"
        },
        "id": "thtsPNLO_jy2",
        "outputId": "078d0301-7c23-4dfc-b8e5-c0a6004f7f5e"
      },
      "execution_count": null,
      "outputs": [
        {
          "output_type": "stream",
          "name": "stdout",
          "text": [
            "0.92\n",
            "0.8818132508517124\n",
            "0.8760034516765286\n"
          ]
        }
      ]
    },
    {
      "cell_type": "code",
      "source": [
        "# D-Prime\n",
        "def dprime_ejemplo(Vpos, Fpos):\n",
        "  media_pos = np.mean(Vpos)\n",
        "  media_neg = np.mean(Fpos)\n",
        "  var_pos = np.std(Vpos)**2\n",
        "  var_neg = np.std(Fpos)**2\n",
        "\n",
        "  d_prime = (media_pos - media_neg) / np.sqrt(var_pos + var_neg)\n",
        "  return d_prime\n",
        "\n",
        "def dprime(sc, si):\n",
        "\n",
        "  scores_cli = []\n",
        "  scores_imp = []\n",
        "\n",
        "  for x in sc:\n",
        "    scores_cli.append(x[1])\n",
        "  \n",
        "  for x in si:\n",
        "    scores_imp.append(x[1])\n",
        "\n",
        "  media_pos = np.mean(scores_cli)\n",
        "  media_neg = np.mean(scores_imp)\n",
        "  var_pos = np.std(scores_cli)**2\n",
        "  var_neg = np.std(scores_imp)**2\n",
        "\n",
        "  d_prime = (media_pos - media_neg) / np.sqrt(var_pos + var_neg)\n",
        "  return d_prime\n",
        "\n",
        "print(dprime_ejemplo(scoreE_clientes , scoreE_impostores))\n",
        "print(dprime(scoreA_clientes , scoreA_impostores))\n",
        "print(dprime(scoreB_clientes , scoreB_impostores))\n"
      ],
      "metadata": {
        "id": "VjlDGm-CpUKA",
        "colab": {
          "base_uri": "https://localhost:8080/"
        },
        "outputId": "1c9a761a-3014-41f3-ac3c-f611115f6d22"
      },
      "execution_count": null,
      "outputs": [
        {
          "output_type": "stream",
          "name": "stdout",
          "text": [
            "1.6413500086045838\n",
            "0.7590270914083886\n",
            "0.8608883460111528\n"
          ]
        }
      ]
    },
    {
      "cell_type": "code",
      "source": [
        ""
      ],
      "metadata": {
        "id": "v8XuLM0SIF8q"
      },
      "execution_count": null,
      "outputs": []
    }
  ]
}