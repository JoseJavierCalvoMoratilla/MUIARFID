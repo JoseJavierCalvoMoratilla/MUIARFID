{
  "cells": [
    {
      "cell_type": "markdown",
      "metadata": {
        "id": "-vGBlufeVdl5"
      },
      "source": [
        "\n",
        "# BIOMETRIA MIARFID 2021/2022\n",
        "\n",
        "Ejercicio Eigenfaces & Fisherfaces\n",
        "\n",
        "José Javier Calvo Moratilla"
      ]
    },
    {
      "cell_type": "markdown",
      "metadata": {
        "id": "PMnkewSoeAVg"
      },
      "source": [
        "Se cargan las librerias necesárias"
      ]
    },
    {
      "cell_type": "code",
      "execution_count": 1,
      "metadata": {
        "id": "l8Vg8dtZeBms",
        "colab": {
          "base_uri": "https://localhost:8080/"
        },
        "outputId": "318d1eaa-dc57-4365-f39b-2975970812d0"
      },
      "outputs": [
        {
          "output_type": "stream",
          "name": "stdout",
          "text": [
            "Looking in indexes: https://pypi.org/simple, https://us-python.pkg.dev/colab-wheels/public/simple/\n",
            "Requirement already satisfied: opencv-contrib-python in /usr/local/lib/python3.7/dist-packages (4.1.2.30)\n",
            "Requirement already satisfied: numpy>=1.14.5 in /usr/local/lib/python3.7/dist-packages (from opencv-contrib-python) (1.21.6)\n"
          ]
        }
      ],
      "source": [
        "import os\n",
        "import numpy as np\n",
        "import re\n",
        "from tqdm import tqdm\n",
        "import matplotlib.pyplot as plt\n",
        "from google.colab.patches import cv2_imshow \n",
        "import cv2 as cv2\n",
        "!pip install opencv-contrib-python\n",
        "from sklearn.decomposition import PCA\n"
      ]
    },
    {
      "cell_type": "markdown",
      "metadata": {
        "id": "qLvyRok7f9sW"
      },
      "source": [
        "Parámetros"
      ]
    },
    {
      "cell_type": "code",
      "execution_count": 2,
      "metadata": {
        "id": "5IxNVhSEgACO"
      },
      "outputs": [],
      "source": [
        "caras = 40 #Caras totales\n",
        "imgs = 5 #img por persona\n",
        "pixeles = 10304 #10304 #píxeles x de una imagen\n",
        "img_shape = (112, 92)"
      ]
    },
    {
      "cell_type": "markdown",
      "metadata": {
        "id": "CNS00lvuaoR2"
      },
      "source": [
        "Se leen los datos de la carpeta local"
      ]
    },
    {
      "cell_type": "code",
      "execution_count": 3,
      "metadata": {
        "id": "d4xOi2Pbpjj8"
      },
      "outputs": [],
      "source": [
        "from numpy.core.fromnumeric import size\n",
        "input_folder = \"drive/MyDrive/MUIARFID/BIOM/Practicas/identificacion/data/\"\n",
        "\n",
        "list_train = os.listdir(input_folder + 'Train')\n",
        "list_test = os.listdir(input_folder + 'Test')\n"
      ]
    },
    {
      "cell_type": "markdown",
      "metadata": {
        "id": "dcly3o-fqsw_"
      },
      "source": [
        "Comprobación de la lectura de las caras"
      ]
    },
    {
      "cell_type": "code",
      "execution_count": 4,
      "metadata": {
        "colab": {
          "base_uri": "https://localhost:8080/",
          "height": 147
        },
        "id": "8EfcpZ8pp1iC",
        "outputId": "4f018a1b-b5bc-45af-eb1b-23a61061d941"
      },
      "outputs": [
        {
          "output_type": "display_data",
          "data": {
            "text/plain": [
              "<PIL.Image.Image image mode=RGB size=92x112 at 0x7FE481EB5890>"
            ],
            "image/png": "[encoded data removed]"
          },
          "metadata": {}
        },
        {
          "output_type": "stream",
          "name": "stdout",
          "text": [
            "(112, 92, 3)\n"
          ]
        }
      ],
      "source": [
        "image = cv2.imread('drive/MyDrive/MUIARFID/BIOM/Practicas/identificacion/data/Train/s1/1.pgm')\n",
        "cv2_imshow(image)\n",
        "print(image.shape)"
      ]
    },
    {
      "cell_type": "markdown",
      "source": [
        "Generación de las matrices X_train, X_test, Y_train, Y_test"
      ],
      "metadata": {
        "id": "Q39lRmuqWONC"
      }
    },
    {
      "cell_type": "code",
      "execution_count": 5,
      "metadata": {
        "colab": {
          "base_uri": "https://localhost:8080/"
        },
        "id": "P48X8iR7au5y",
        "outputId": "a2862971-ad4a-44bc-fc9e-2503df6cecaf"
      },
      "outputs": [
        {
          "output_type": "stream",
          "name": "stdout",
          "text": [
            "1.pgm  2.pgm  3.pgm  4.pgm  5.pgm\n"
          ]
        },
        {
          "output_type": "stream",
          "name": "stderr",
          "text": [
            "100%|██████████| 40/40 [00:48<00:00,  1.21s/it]\n",
            "100%|██████████| 40/40 [00:46<00:00,  1.17s/it]"
          ]
        },
        {
          "output_type": "stream",
          "name": "stdout",
          "text": [
            "\n",
            "\n",
            "X Train Shape:  (10304, 200)\n",
            "Y Train Shape:  (200,)\n"
          ]
        },
        {
          "output_type": "stream",
          "name": "stderr",
          "text": [
            "\n"
          ]
        }
      ],
      "source": [
        "!ls \"drive/MyDrive/MUIARFID/BIOM/Practicas/identificacion/data/Train/s1\"\n",
        "X_train = np.zeros(shape=(caras * imgs, pixeles))\n",
        "Y_train = []\n",
        "\n",
        "X_test = np.zeros(shape=(caras * imgs, pixeles))\n",
        "Y_test = []\n",
        "\n",
        "#Recorremos las imágenes y construimos la matriz X_train, Y_train\n",
        "cnt = 0\n",
        "for cara in tqdm(range(1, caras + 1)): # carpeta\n",
        "  for im in range(1,imgs+1): # número archivo\n",
        "    image = cv2.imread('drive/MyDrive/MUIARFID/BIOM/Practicas/identificacion/data/Train/s' + str(cara) + '/'+ str(im) + '.pgm', 0)\n",
        "    X_train[cnt][:] = image.flatten()\n",
        "    Y_train.append(int(cara))\n",
        "    cnt +=1\n",
        "\n",
        "#Recorremos las imágenes y construimos la matriz X_test, Y_test\n",
        "cnt = 0\n",
        "for cara in tqdm(range(1, caras + 1)): # carpeta\n",
        "  for im in range(imgs + 1, 2 * imgs + 1): # número archivo\n",
        "    image = cv2.imread('drive/MyDrive/MUIARFID/BIOM/Practicas/identificacion/data/Test/s' + str(cara) + '/'+ str(im) + '.pgm', 0)\n",
        "    X_test[cnt][:] = image.flatten()\n",
        "    Y_test.append(int(cara))\n",
        "    cnt +=1\n",
        "\n",
        "X_train = X_train.T\n",
        "X_test = X_test.T\n",
        "Y_train = np.array(Y_train)\n",
        "Y_test = np.array(Y_test)\n",
        "\n",
        "print('\\n\\nX Train Shape: ',X_train.shape)\n",
        "print('Y Train Shape: ',Y_train.shape)\n",
        "#print('\\n\\nLabels: ', labels)"
      ]
    },
    {
      "cell_type": "markdown",
      "metadata": {
        "id": "O__LCruau2j2"
      },
      "source": [
        "Se obtienen las medias de cada imagen"
      ]
    },
    {
      "cell_type": "code",
      "execution_count": 6,
      "metadata": {
        "id": "oELKP_Cj0fGc",
        "colab": {
          "base_uri": "https://localhost:8080/",
          "height": 166
        },
        "outputId": "ef064c43-238e-4222-a910-e42c22a9d727"
      },
      "outputs": [
        {
          "output_type": "stream",
          "name": "stdout",
          "text": [
            "\n",
            " Media train shape:  (10304,)\n"
          ]
        },
        {
          "output_type": "display_data",
          "data": {
            "text/plain": [
              "<PIL.Image.Image image mode=L size=92x112 at 0x7FE481E42850>"
            ],
            "image/png": "[encoded data removed]"
          },
          "metadata": {}
        }
      ],
      "source": [
        "medias_train = X_train.mean(axis=1)\n",
        "print('\\n Media train shape: ', medias_train.shape)\n",
        "cv2_imshow(medias_train.reshape(img_shape))"
      ]
    },
    {
      "cell_type": "markdown",
      "metadata": {
        "id": "OGZn-J5hu7G4"
      },
      "source": [
        "Se obtiene la matriz A"
      ]
    },
    {
      "cell_type": "code",
      "execution_count": 7,
      "metadata": {
        "id": "ndmyRtae3D9Q",
        "colab": {
          "base_uri": "https://localhost:8080/",
          "height": 147
        },
        "outputId": "b630d0d4-e938-4f9f-e443-26e9c73c3d6f"
      },
      "outputs": [
        {
          "output_type": "stream",
          "name": "stdout",
          "text": [
            "(10304, 200)\n"
          ]
        },
        {
          "output_type": "display_data",
          "data": {
            "text/plain": [
              "<PIL.Image.Image image mode=L size=92x112 at 0x7FE481E42250>"
            ],
            "image/png": "[encoded data removed]"
          },
          "metadata": {}
        }
      ],
      "source": [
        "A_train = X_train.T - medias_train\n",
        "A_train = A_train.T\n",
        "print(A_train.shape)\n",
        "cv2_imshow(A_train[:,0].reshape(img_shape))"
      ]
    },
    {
      "cell_type": "markdown",
      "metadata": {
        "id": "DSggqXPyu94L"
      },
      "source": [
        "Se obtiene la matrix de covariancias"
      ]
    },
    {
      "cell_type": "code",
      "execution_count": 8,
      "metadata": {
        "id": "tNh79CdftnzL",
        "colab": {
          "base_uri": "https://localhost:8080/"
        },
        "outputId": "03b27a95-79e7-4e48-91a9-de3950911cc9"
      },
      "outputs": [
        {
          "output_type": "stream",
          "name": "stdout",
          "text": [
            "Shape de la matrix de covarianzas =  (200, 200)\n"
          ]
        }
      ],
      "source": [
        "#Matriz de covarianzas\n",
        "img_totales = caras * imgs\n",
        "#cov_matrix_train = (1/pixeles) * np.dot(A_train.T , A_train) # Píxeles = d\n",
        "cov_matrix_train = np.cov(A_train.T)\n",
        "print('Shape de la matrix de covarianzas = ', cov_matrix_train.shape)"
      ]
    },
    {
      "cell_type": "markdown",
      "metadata": {
        "id": "vf0_1wppaRMM"
      },
      "source": [
        "PCA\n",
        "\n"
      ]
    },
    {
      "cell_type": "code",
      "execution_count": 9,
      "metadata": {
        "id": "Web234iNUotf"
      },
      "outputs": [],
      "source": [
        "# B = Eigenvectors \n",
        "# Delta = Eigenvalues\n",
        "def PCA(cov_matrix):\n",
        "  # Se obtiene delta y b prima\n",
        "  delta_prima, B_prima = np.linalg.eig(cov_matrix) \n",
        "\n",
        "  # se obtiene delta y B\n",
        "  eigenVectors = np.dot(A_train, B_prima)\n",
        "  eigenValues = np.dot((pixeles / (imgs * caras)),delta_prima)\n",
        "  #print('Shape B = ', eigenVectors.shape)\n",
        "  #print('Shape delta = ', eigenValues.shape)\n",
        "\n",
        "  # Los eigenvectores así obtenidos son ortogonales pero no ortonormales. \n",
        "  # Hay que dividir cada vector por su módulo.\n",
        "  modulos = np.linalg.norm(eigenVectors, axis=0)\n",
        "  eigenVectors = eigenVectors / modulos\n",
        "\n",
        "  # Se ordena B (EigenVectors)\n",
        "  idx = delta_prima.argsort()[::-1] \n",
        "  eigenValues = delta_prima[idx]\n",
        "  eigenVectors = eigenVectors[:, idx]\n",
        "  #X_t = np.dot(eigenVectors[:,:dim].T, X_train)\n",
        "  #X_te = np.dot(eigenVectors[:,:dim].T , X_test)\n",
        "\n",
        "  return eigenVectors\n"
      ]
    },
    {
      "cell_type": "markdown",
      "metadata": {
        "id": "zJNjoLKWIYdA"
      },
      "source": [
        "KNN"
      ]
    },
    {
      "cell_type": "code",
      "execution_count": 10,
      "metadata": {
        "id": "0Kh-F_gcImyP"
      },
      "outputs": [],
      "source": [
        "from sklearn import neighbors\n",
        "\n",
        "# Se prueba el modelo KNN con diferente reducción de dimensionalidad\n",
        "# para así comprobar el efecto que produce en el rendimiento\n",
        "dimensionalidad = list(range(1,200, 5))\n",
        "\n",
        "res = {}\n",
        "\n",
        "for d in dimensionalidad: \n",
        "  for k in range(1,6):  \n",
        "    B = PCA(cov_matrix_train)\n",
        "    X_train2 = np.dot(B[:,:d].T, X_train)\n",
        "    X_test2 = np.dot(B[:,:d].T , X_test)\n",
        "    clasificador = neighbors.KNeighborsClassifier(n_neighbors=k)\n",
        "    clasificador.fit(X_train2.T, Y_train)\n",
        "    res[str(k)+'NN_'+str(d)] = clasificador.score(X_test2.T, Y_test)\n",
        " "
      ]
    },
    {
      "cell_type": "code",
      "source": [
        "max_key = ''\n",
        "max_value = 0.0\n",
        "\n",
        "for this_value in res.items():\n",
        "  key = this_value[0]\n",
        "  value = this_value[1]\n",
        "  \n",
        "  if value > max_value:\n",
        "    max_key = key\n",
        "    max_value = value\n",
        "\n",
        "print('El mejor resultado de KNN + PCA es: ', max_key, max_value)\n"
      ],
      "metadata": {
        "colab": {
          "base_uri": "https://localhost:8080/"
        },
        "id": "hUOFodhYHZLd",
        "outputId": "cd705772-9d38-4117-b010-d3d62ee8098d"
      },
      "execution_count": 11,
      "outputs": [
        {
          "output_type": "stream",
          "name": "stdout",
          "text": [
            "El mejor resultado de KNN + PCA es:  1NN_41 0.89\n"
          ]
        }
      ]
    },
    {
      "cell_type": "markdown",
      "source": [
        "Se obtiene la gráfica con los resultados para cada dimensión y KNN Vecinos más cercanos del 1 al 5"
      ],
      "metadata": {
        "id": "slxpVBrkbJih"
      }
    },
    {
      "cell_type": "code",
      "source": [
        "res_1 = [ v for k,v in res.items() if '1NN' in k]\n",
        "res_2 = [ v for k,v in res.items() if '2NN' in k]\n",
        "res_3 = [ v for k,v in res.items() if '3NN' in k]\n",
        "res_4 = [ v for k,v in res.items() if '4NN' in k]\n",
        "res_5 = [ v for k,v in res.items() if '5NN' in k]\n",
        "\n",
        "plt.clf()\n",
        "plt.plot(range(1,200, 5),  res_1, color='blue', label='1NN')\n",
        "plt.plot(range(1,200, 5),  res_2, color='red', label='2NN')\n",
        "plt.plot(range(1,200, 5),  res_3, color='green', label='3NN')\n",
        "plt.plot(range(1,200, 5),  res_4, color='violet', label='4NN')\n",
        "plt.plot(range(1,200, 5),  res_5, color='orange', label='5NN')\n",
        "plt.xlabel('Dimensions')\n",
        "plt.ylabel('Accuracy')\n",
        "plt.title('KNN + PCA')\n",
        "plt.legend()\n",
        "plt.show()"
      ],
      "metadata": {
        "colab": {
          "base_uri": "https://localhost:8080/",
          "height": 295
        },
        "id": "KX91xvpUYtDa",
        "outputId": "bd2bfb59-81db-494e-b18e-7bb811b9faa7"
      },
      "execution_count": 12,
      "outputs": [
        {
          "output_type": "display_data",
          "data": {
            "text/plain": [
              "<Figure size 432x288 with 1 Axes>"
            ],
            "image/png": "[encoded data removed]"
          },
          "metadata": {
            "needs_background": "light"
          }
        }
      ]
    },
    {
      "cell_type": "markdown",
      "source": [
        "Se realiza la pruba con PCA + LDA\n"
      ],
      "metadata": {
        "id": "LEJgTyKZ3YCU"
      }
    },
    {
      "cell_type": "code",
      "source": [
        "import scipy.linalg as scipylg\n",
        "\n",
        "def LDA(X, labels, dim):\n",
        "\n",
        "    #print('El shape de X de entrada es: ', X.shape)\n",
        "\n",
        "    mu = X.mean(axis = 1)\n",
        "    #print('El shape de la media global es: ', mu.shape)\n",
        "    sb = np.zeros((X.shape[0],X.shape[0]))\n",
        "    sw = sb.copy()\n",
        "    #print('El shape de sb y sw de entrada es: ', sb.shape)\n",
        "\n",
        "    for label in set(labels):  \n",
        "\n",
        "      # Se obtienen los índices de una clase concreta en los datos de X      \n",
        "      indices = np.where(labels == label)   \n",
        "\n",
        "      # Se obtiene la matriz correspondiente a los datos de una clase concreta  \n",
        "      matriz_clase = X[:,indices[0]]\n",
        "\n",
        "      # Se obtiene la media de clase de la matriz anterior\n",
        "      mu_clase = matriz_clase.mean(axis = 1).reshape((X.shape[0],1))  \n",
        "\n",
        "      # Se obtiene el número de muestras de la matriz      \n",
        "      samples_class = matriz_clase.shape[1]\n",
        "\n",
        "      # Se calculan sb y sw\n",
        "      sb += samples_class * (mu_clase -mu)  * (mu_clase-mu).T\n",
        "      sw += np.dot((matriz_clase-mu_clase) , (matriz_clase-mu_clase).T)\n",
        "    \n",
        "    # Se obtiene el valor C\n",
        "    C = np.linalg.inv(sw) * sb  \n",
        "\n",
        "    # Se obtienen los eigenValues, eigenVectors de la variable C  \n",
        "    Delta, B = np.linalg.eig(C)\n",
        "\n",
        "    # Se ordenan los eigenVectors de mayor a menor eigenValue\n",
        "    idx = Delta.argsort()[::-1]    \n",
        "    B = B[idx]\n",
        "\n",
        "    # Se obtienen los datos con la reducción de dimensión aportada como parametro de la función LDA\n",
        "    #res_X = np.dot(X.T, B[:,:dim])    \n",
        "\n",
        "    #print('El shape de C es: ', C.shape)\n",
        "    #print('El shape de Delta es: ', Delta.shape)\n",
        "    #print('El shape de B es: ', B.shape)\n",
        "    #print('El shape de res_X es: ', res_X.shape)\n",
        "    \n",
        "    return B\n",
        "\n",
        "#X_t, X_te = PCA(cov_matrix_train, 4)\n",
        "#X_lda = LDA(X_t, Y_train,2)\n",
        "#print(B_lda_train.shape)\n"
      ],
      "metadata": {
        "id": "SFbMA4o4-d0N"
      },
      "execution_count": 13,
      "outputs": []
    },
    {
      "cell_type": "code",
      "source": [
        "from sklearn import neighbors\n",
        "\n",
        "mejor_dim = 41\n",
        "# Se prueba el modelo KNN con diferente reducción de dimensionalidad\n",
        "# para así comprobar el efecto que produce en el rendimiento\n",
        "dimensionalidad = list(range(1,mejor_dim + 1, 1))\n",
        "\n",
        "res = {}\n",
        "\n",
        "B = PCA(cov_matrix_train)\n",
        "X_train_pca = np.dot(B[:,:mejor_dim].T, X_train)\n",
        "X_test_pca = np.dot(B[:,:mejor_dim].T , X_test)\n",
        "\n",
        "for d in dimensionalidad: \n",
        "  for n in range(1,6): \n",
        "\n",
        "    B_lda = LDA(X_train_pca, Y_train, d)   \n",
        "\n",
        "    X_train_lda = np.dot(B_lda[:,:d].T, X_train_pca) \n",
        "    X_test_lda = np.dot(B_lda[:,:d].T, X_test_pca) \n",
        "\n",
        "    clasificador = neighbors.KNeighborsClassifier(n_neighbors=n)\n",
        "    clasificador.fit(X_train_lda.T, Y_train)\n",
        "    res[str(n)+'NN_'+str(d)] = clasificador.score(X_test_lda.T, Y_test)\n",
        "\n",
        "max_key = ''\n",
        "max_value = 0.0\n",
        "\n",
        "for this_value in res.items():\n",
        "  key = this_value[0]\n",
        "  value = this_value[1]\n",
        "  \n",
        "  if value > max_value:\n",
        "    max_key = key\n",
        "    max_value = value\n",
        "\n",
        "print('El mejor resultado de KNN + PCA + LDA es: ', max_key, max_value)"
      ],
      "metadata": {
        "id": "4ERJY0xoDkAo",
        "colab": {
          "base_uri": "https://localhost:8080/"
        },
        "outputId": "3ece694a-d7e3-4baa-88db-1b1cccaa7e11"
      },
      "execution_count": 14,
      "outputs": [
        {
          "output_type": "stream",
          "name": "stdout",
          "text": [
            "El mejor resultado de KNN + PCA + LDA es:  1NN_41 0.89\n"
          ]
        }
      ]
    },
    {
      "cell_type": "code",
      "source": [
        "res_1 = [ v for k,v in res.items() if '1NN' in k]\n",
        "res_2 = [ v for k,v in res.items() if '2NN' in k]\n",
        "res_3 = [ v for k,v in res.items() if '3NN' in k]\n",
        "res_4 = [ v for k,v in res.items() if '4NN' in k]\n",
        "res_5 = [ v for k,v in res.items() if '5NN' in k]\n",
        "\n",
        "plt.clf()\n",
        "plt.plot(range(1,mejor_dim + 1, 1),  res_1, color='blue', label='1NN')\n",
        "plt.plot(range(1,mejor_dim + 1, 1),  res_2, color='red', label='2NN')\n",
        "plt.plot(range(1,mejor_dim + 1, 1),  res_3, color='green', label='3NN')\n",
        "plt.plot(range(1,mejor_dim + 1, 1),  res_4, color='violet', label='4NN')\n",
        "plt.plot(range(1,mejor_dim + 1, 1),  res_5, color='orange', label='5NN')\n",
        "plt.xlabel('Dimensions')\n",
        "plt.ylabel('Accuracy')\n",
        "plt.title('KNN + PCA + LDA')\n",
        "plt.legend()\n",
        "plt.show()"
      ],
      "metadata": {
        "colab": {
          "base_uri": "https://localhost:8080/",
          "height": 295
        },
        "id": "mSMDcquNAzuz",
        "outputId": "17b06669-534e-4868-d492-4ff3430b02e5"
      },
      "execution_count": 15,
      "outputs": [
        {
          "output_type": "display_data",
          "data": {
            "text/plain": [
              "<Figure size 432x288 with 1 Axes>"
            ],
            "image/png": "[encoded data removed]"
          },
          "metadata": {
            "needs_background": "light"
          }
        }
      ]
    }
  ],
  "metadata": {
    "colab": {
      "collapsed_sections": [],
      "name": "CalvoMoratillaJoseJavier_eigenfaces_and_fisherfaces.ipynb",
      "provenance": [],
      "machine_shape": "hm"
    },
    "kernelspec": {
      "display_name": "Python 3",
      "name": "python3"
    },
    "language_info": {
      "name": "python"
    }
  },
  "nbformat": 4,
  "nbformat_minor": 0
}